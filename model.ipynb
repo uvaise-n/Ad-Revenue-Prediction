{
 "cells": [
  {
   "cell_type": "markdown",
   "source": [
    "An advertiser on the platform (DeltaX) would like to estimate the performance of their campaign in the future.  You're given the past performance data of ads between 1st August to 28th Feb and is tasked to predict an ad's future performance (revenue) between March 1st and March 15th.\r\n"
   ],
   "metadata": {}
  },
  {
   "cell_type": "markdown",
   "source": [
    "# Import Libraries and Load data"
   ],
   "metadata": {}
  },
  {
   "cell_type": "code",
   "execution_count": 1,
   "source": [
    "import pandas as pd\r\n",
    "import numpy as np\r\n",
    "import seaborn as sns\r\n",
    "import matplotlib.pyplot as plt\r\n",
    "import missingno\r\n",
    "%matplotlib inline\r\n",
    "import warnings\r\n",
    "warnings.filterwarnings('ignore')\r\n",
    "from sklearn.model_selection import train_test_split\r\n",
    "from sklearn.model_selection import cross_val_score\r\n",
    "from sklearn import model_selection, tree, preprocessing, metrics, linear_model\r\n",
    "from sklearn import metrics\r\n",
    "\r\n",
    "## Import ML models\r\n",
    "from sklearn.linear_model import LinearRegression\r\n",
    "from sklearn.linear_model import Lasso\r\n",
    "from sklearn.linear_model import Ridge\r\n",
    "from sklearn.tree import DecisionTreeRegressor\r\n",
    "from sklearn.ensemble import RandomForestRegressor\r\n",
    "from sklearn.ensemble import GradientBoostingRegressor\r\n",
    "from xgboost import XGBRegressor\r\n",
    "from catboost import CatBoostRegressor\r\n",
    "\r\n",
    "## Metrics and tuning\r\n",
    "from sklearn.metrics import mean_squared_error\r\n",
    "from sklearn.metrics import r2_score\r\n",
    "from sklearn.model_selection import GridSearchCV\r\n"
   ],
   "outputs": [],
   "metadata": {}
  },
  {
   "cell_type": "code",
   "execution_count": 2,
   "source": [
    "train_raw=pd.read_csv(r\"C:\\Users\\Uvaise Nazir\\Desktop\\PM\\Data Science\\Summer Analytics 21\\Hackathon\\Train_Data.csv\")\r\n",
    "test_raw=pd.read_csv(r\"C:\\Users\\Uvaise Nazir\\Desktop\\PM\\Data Science\\Summer Analytics 21\\Hackathon\\Test_Data.csv\")\r\n",
    "train_raw.head()"
   ],
   "outputs": [
    {
     "output_type": "execute_result",
     "data": {
      "text/plain": [
       "         date    campaign    adgroup    ad  impressions  clicks  cost  \\\n",
       "0  01-08-2020  campaign 1  adgroup 1  ad 1           24       6  0.08   \n",
       "1  01-08-2020  campaign 1  adgroup 2  ad 1            1       0  0.00   \n",
       "2  01-08-2020  campaign 1  adgroup 3  ad 1           13       4  0.04   \n",
       "3  01-08-2020  campaign 1  adgroup 4  ad 1            5       4  0.08   \n",
       "4  01-08-2020  campaign 1  adgroup 1  ad 2          247     126  1.29   \n",
       "\n",
       "   conversions  revenue  \n",
       "0            0     0.00  \n",
       "1            0     0.00  \n",
       "2            0     0.00  \n",
       "3            0     0.00  \n",
       "4            4   925.71  "
      ],
      "text/html": [
       "<div>\n",
       "<style scoped>\n",
       "    .dataframe tbody tr th:only-of-type {\n",
       "        vertical-align: middle;\n",
       "    }\n",
       "\n",
       "    .dataframe tbody tr th {\n",
       "        vertical-align: top;\n",
       "    }\n",
       "\n",
       "    .dataframe thead th {\n",
       "        text-align: right;\n",
       "    }\n",
       "</style>\n",
       "<table border=\"1\" class=\"dataframe\">\n",
       "  <thead>\n",
       "    <tr style=\"text-align: right;\">\n",
       "      <th></th>\n",
       "      <th>date</th>\n",
       "      <th>campaign</th>\n",
       "      <th>adgroup</th>\n",
       "      <th>ad</th>\n",
       "      <th>impressions</th>\n",
       "      <th>clicks</th>\n",
       "      <th>cost</th>\n",
       "      <th>conversions</th>\n",
       "      <th>revenue</th>\n",
       "    </tr>\n",
       "  </thead>\n",
       "  <tbody>\n",
       "    <tr>\n",
       "      <th>0</th>\n",
       "      <td>01-08-2020</td>\n",
       "      <td>campaign 1</td>\n",
       "      <td>adgroup 1</td>\n",
       "      <td>ad 1</td>\n",
       "      <td>24</td>\n",
       "      <td>6</td>\n",
       "      <td>0.08</td>\n",
       "      <td>0</td>\n",
       "      <td>0.00</td>\n",
       "    </tr>\n",
       "    <tr>\n",
       "      <th>1</th>\n",
       "      <td>01-08-2020</td>\n",
       "      <td>campaign 1</td>\n",
       "      <td>adgroup 2</td>\n",
       "      <td>ad 1</td>\n",
       "      <td>1</td>\n",
       "      <td>0</td>\n",
       "      <td>0.00</td>\n",
       "      <td>0</td>\n",
       "      <td>0.00</td>\n",
       "    </tr>\n",
       "    <tr>\n",
       "      <th>2</th>\n",
       "      <td>01-08-2020</td>\n",
       "      <td>campaign 1</td>\n",
       "      <td>adgroup 3</td>\n",
       "      <td>ad 1</td>\n",
       "      <td>13</td>\n",
       "      <td>4</td>\n",
       "      <td>0.04</td>\n",
       "      <td>0</td>\n",
       "      <td>0.00</td>\n",
       "    </tr>\n",
       "    <tr>\n",
       "      <th>3</th>\n",
       "      <td>01-08-2020</td>\n",
       "      <td>campaign 1</td>\n",
       "      <td>adgroup 4</td>\n",
       "      <td>ad 1</td>\n",
       "      <td>5</td>\n",
       "      <td>4</td>\n",
       "      <td>0.08</td>\n",
       "      <td>0</td>\n",
       "      <td>0.00</td>\n",
       "    </tr>\n",
       "    <tr>\n",
       "      <th>4</th>\n",
       "      <td>01-08-2020</td>\n",
       "      <td>campaign 1</td>\n",
       "      <td>adgroup 1</td>\n",
       "      <td>ad 2</td>\n",
       "      <td>247</td>\n",
       "      <td>126</td>\n",
       "      <td>1.29</td>\n",
       "      <td>4</td>\n",
       "      <td>925.71</td>\n",
       "    </tr>\n",
       "  </tbody>\n",
       "</table>\n",
       "</div>"
      ]
     },
     "metadata": {},
     "execution_count": 2
    }
   ],
   "metadata": {}
  },
  {
   "cell_type": "code",
   "execution_count": 3,
   "source": [
    "test_raw.head()"
   ],
   "outputs": [
    {
     "output_type": "execute_result",
     "data": {
      "text/plain": [
       "         date    campaign    adgroup    ad  cost  impressions  clicks  \\\n",
       "0  01-03-2021  campaign 1  adgroup 1  ad 1  0.58          121      49   \n",
       "1  01-03-2021  campaign 1  adgroup 3  ad 1  0.17           22      12   \n",
       "2  01-03-2021  campaign 1  adgroup 4  ad 1  0.05            5       3   \n",
       "3  01-03-2021  campaign 1  adgroup 2  ad 1  0.01            2       1   \n",
       "4  01-03-2021  campaign 1  adgroup 2  ad 2  0.01            3       1   \n",
       "\n",
       "   conversions  \n",
       "0            1  \n",
       "1            0  \n",
       "2            0  \n",
       "3            0  \n",
       "4            0  "
      ],
      "text/html": [
       "<div>\n",
       "<style scoped>\n",
       "    .dataframe tbody tr th:only-of-type {\n",
       "        vertical-align: middle;\n",
       "    }\n",
       "\n",
       "    .dataframe tbody tr th {\n",
       "        vertical-align: top;\n",
       "    }\n",
       "\n",
       "    .dataframe thead th {\n",
       "        text-align: right;\n",
       "    }\n",
       "</style>\n",
       "<table border=\"1\" class=\"dataframe\">\n",
       "  <thead>\n",
       "    <tr style=\"text-align: right;\">\n",
       "      <th></th>\n",
       "      <th>date</th>\n",
       "      <th>campaign</th>\n",
       "      <th>adgroup</th>\n",
       "      <th>ad</th>\n",
       "      <th>cost</th>\n",
       "      <th>impressions</th>\n",
       "      <th>clicks</th>\n",
       "      <th>conversions</th>\n",
       "    </tr>\n",
       "  </thead>\n",
       "  <tbody>\n",
       "    <tr>\n",
       "      <th>0</th>\n",
       "      <td>01-03-2021</td>\n",
       "      <td>campaign 1</td>\n",
       "      <td>adgroup 1</td>\n",
       "      <td>ad 1</td>\n",
       "      <td>0.58</td>\n",
       "      <td>121</td>\n",
       "      <td>49</td>\n",
       "      <td>1</td>\n",
       "    </tr>\n",
       "    <tr>\n",
       "      <th>1</th>\n",
       "      <td>01-03-2021</td>\n",
       "      <td>campaign 1</td>\n",
       "      <td>adgroup 3</td>\n",
       "      <td>ad 1</td>\n",
       "      <td>0.17</td>\n",
       "      <td>22</td>\n",
       "      <td>12</td>\n",
       "      <td>0</td>\n",
       "    </tr>\n",
       "    <tr>\n",
       "      <th>2</th>\n",
       "      <td>01-03-2021</td>\n",
       "      <td>campaign 1</td>\n",
       "      <td>adgroup 4</td>\n",
       "      <td>ad 1</td>\n",
       "      <td>0.05</td>\n",
       "      <td>5</td>\n",
       "      <td>3</td>\n",
       "      <td>0</td>\n",
       "    </tr>\n",
       "    <tr>\n",
       "      <th>3</th>\n",
       "      <td>01-03-2021</td>\n",
       "      <td>campaign 1</td>\n",
       "      <td>adgroup 2</td>\n",
       "      <td>ad 1</td>\n",
       "      <td>0.01</td>\n",
       "      <td>2</td>\n",
       "      <td>1</td>\n",
       "      <td>0</td>\n",
       "    </tr>\n",
       "    <tr>\n",
       "      <th>4</th>\n",
       "      <td>01-03-2021</td>\n",
       "      <td>campaign 1</td>\n",
       "      <td>adgroup 2</td>\n",
       "      <td>ad 2</td>\n",
       "      <td>0.01</td>\n",
       "      <td>3</td>\n",
       "      <td>1</td>\n",
       "      <td>0</td>\n",
       "    </tr>\n",
       "  </tbody>\n",
       "</table>\n",
       "</div>"
      ]
     },
     "metadata": {},
     "execution_count": 3
    }
   ],
   "metadata": {}
  },
  {
   "cell_type": "markdown",
   "source": [
    "# Exploratory Data Analysis"
   ],
   "metadata": {}
  },
  {
   "cell_type": "code",
   "execution_count": 4,
   "source": [
    "train_raw.shape,test_raw.shape"
   ],
   "outputs": [
    {
     "output_type": "execute_result",
     "data": {
      "text/plain": [
       "((4571, 9), (318, 8))"
      ]
     },
     "metadata": {},
     "execution_count": 4
    }
   ],
   "metadata": {}
  },
  {
   "cell_type": "code",
   "execution_count": 5,
   "source": [
    "train_raw.info(),test_raw.info()"
   ],
   "outputs": [
    {
     "output_type": "stream",
     "name": "stdout",
     "text": [
      "<class 'pandas.core.frame.DataFrame'>\n",
      "RangeIndex: 4571 entries, 0 to 4570\n",
      "Data columns (total 9 columns):\n",
      " #   Column       Non-Null Count  Dtype  \n",
      "---  ------       --------------  -----  \n",
      " 0   date         4571 non-null   object \n",
      " 1   campaign     4571 non-null   object \n",
      " 2   adgroup      4571 non-null   object \n",
      " 3   ad           4571 non-null   object \n",
      " 4   impressions  4571 non-null   int64  \n",
      " 5   clicks       4571 non-null   int64  \n",
      " 6   cost         4571 non-null   float64\n",
      " 7   conversions  4571 non-null   int64  \n",
      " 8   revenue      4571 non-null   float64\n",
      "dtypes: float64(2), int64(3), object(4)\n",
      "memory usage: 321.5+ KB\n",
      "<class 'pandas.core.frame.DataFrame'>\n",
      "RangeIndex: 318 entries, 0 to 317\n",
      "Data columns (total 8 columns):\n",
      " #   Column       Non-Null Count  Dtype  \n",
      "---  ------       --------------  -----  \n",
      " 0   date         318 non-null    object \n",
      " 1   campaign     318 non-null    object \n",
      " 2   adgroup      318 non-null    object \n",
      " 3   ad           318 non-null    object \n",
      " 4   cost         318 non-null    float64\n",
      " 5   impressions  318 non-null    int64  \n",
      " 6   clicks       318 non-null    int64  \n",
      " 7   conversions  318 non-null    int64  \n",
      "dtypes: float64(1), int64(3), object(4)\n",
      "memory usage: 20.0+ KB\n"
     ]
    },
    {
     "output_type": "execute_result",
     "data": {
      "text/plain": [
       "(None, None)"
      ]
     },
     "metadata": {},
     "execution_count": 5
    }
   ],
   "metadata": {}
  },
  {
   "cell_type": "markdown",
   "source": [
    "### Missing values"
   ],
   "metadata": {}
  },
  {
   "cell_type": "code",
   "execution_count": 6,
   "source": [
    "train_raw.isna().sum(),test_raw.isna().sum()"
   ],
   "outputs": [
    {
     "output_type": "execute_result",
     "data": {
      "text/plain": [
       "(date           0\n",
       " campaign       0\n",
       " adgroup        0\n",
       " ad             0\n",
       " impressions    0\n",
       " clicks         0\n",
       " cost           0\n",
       " conversions    0\n",
       " revenue        0\n",
       " dtype: int64,\n",
       " date           0\n",
       " campaign       0\n",
       " adgroup        0\n",
       " ad             0\n",
       " cost           0\n",
       " impressions    0\n",
       " clicks         0\n",
       " conversions    0\n",
       " dtype: int64)"
      ]
     },
     "metadata": {},
     "execution_count": 6
    }
   ],
   "metadata": {}
  },
  {
   "cell_type": "markdown",
   "source": [
    "There are no missing values in both datasets"
   ],
   "metadata": {}
  },
  {
   "cell_type": "markdown",
   "source": [
    "## Understanding Feature & Target Variable"
   ],
   "metadata": {}
  },
  {
   "cell_type": "code",
   "execution_count": 7,
   "source": [
    "train_raw.campaign.unique()"
   ],
   "outputs": [
    {
     "output_type": "execute_result",
     "data": {
      "text/plain": [
       "array(['campaign 1'], dtype=object)"
      ]
     },
     "metadata": {},
     "execution_count": 7
    }
   ],
   "metadata": {}
  },
  {
   "cell_type": "markdown",
   "source": [
    "There is only one type and we could drop this"
   ],
   "metadata": {}
  },
  {
   "cell_type": "code",
   "execution_count": 8,
   "source": [
    "train_raw.adgroup.unique()"
   ],
   "outputs": [
    {
     "output_type": "execute_result",
     "data": {
      "text/plain": [
       "array(['adgroup 1', 'adgroup 2', 'adgroup 3', 'adgroup 4'], dtype=object)"
      ]
     },
     "metadata": {},
     "execution_count": 8
    }
   ],
   "metadata": {}
  },
  {
   "cell_type": "code",
   "execution_count": 9,
   "source": [
    "train_raw.ad.unique()"
   ],
   "outputs": [
    {
     "output_type": "execute_result",
     "data": {
      "text/plain": [
       "array(['ad 1', 'ad 2', 'ad 3', 'ad 4', 'ad 5', 'ad 6', 'ad 7', 'ad 8',\n",
       "       'ad 9', 'ad 10', 'ad 11', 'ad 12', 'ad 13', 'ad 14', 'ad 15',\n",
       "       'ad 16', 'ad 17', 'ad 18', 'ad 19', 'ad 20', 'ad 21', 'ad 22',\n",
       "       'ad 23', 'ad 24', 'ad 25', 'ad 26', 'ad 27', 'ad 28', 'ad 29',\n",
       "       'ad 30', 'ad 31', 'ad 32', 'ad 33', 'ad 34', 'ad 35', 'ad 36',\n",
       "       'ad 37', 'ad 38', 'ad 39', 'ad 40', 'ad 41', 'ad 42', 'ad 43',\n",
       "       'ad 44', 'ad 45', 'ad 46', 'ad 47', 'ad 48', 'ad 49', 'ad 50',\n",
       "       'ad 51', 'ad 52', 'ad 53', 'ad 54', 'ad 55', 'ad 56', 'ad 57',\n",
       "       'ad 58', 'ad 59', 'ad 60', 'ad 61', 'ad 62', 'ad 63', 'ad 64',\n",
       "       'ad 65', 'ad 66', 'ad 67', 'ad 68', 'ad 69', 'ad 70'], dtype=object)"
      ]
     },
     "metadata": {},
     "execution_count": 9
    }
   ],
   "metadata": {}
  },
  {
   "cell_type": "code",
   "execution_count": 10,
   "source": [
    "test_raw.ad.unique()"
   ],
   "outputs": [
    {
     "output_type": "execute_result",
     "data": {
      "text/plain": [
       "array(['ad 1', 'ad 2', 'ad 3', 'ad 4', 'ad 5', 'ad 6', 'ad 7', 'ad 8',\n",
       "       'ad 10', 'ad 71', 'ad 72', 'ad 73', 'ad 74', 'ad 75', 'ad 56',\n",
       "       'ad 55'], dtype=object)"
      ]
     },
     "metadata": {},
     "execution_count": 10
    }
   ],
   "metadata": {}
  },
  {
   "cell_type": "code",
   "execution_count": 11,
   "source": [
    "train_raw[\"ad\"].value_counts().sort_values()"
   ],
   "outputs": [
    {
     "output_type": "execute_result",
     "data": {
      "text/plain": [
       "ad 51      3\n",
       "ad 69      4\n",
       "ad 36      4\n",
       "ad 31      4\n",
       "ad 24      4\n",
       "        ... \n",
       "ad 32    377\n",
       "ad 7     461\n",
       "ad 2     512\n",
       "ad 1     587\n",
       "ad 3     617\n",
       "Name: ad, Length: 70, dtype: int64"
      ]
     },
     "metadata": {},
     "execution_count": 11
    }
   ],
   "metadata": {}
  },
  {
   "cell_type": "markdown",
   "source": [
    "Here we can see that test data contains same campaign and adgroups, however there are only limited ads (16 opposed to 70 in train data). However new ads (ad 71-75) only exist in test data. Once the model is completed we can keep only the test data ad groups and try again. "
   ],
   "metadata": {}
  },
  {
   "cell_type": "markdown",
   "source": [
    "Looking at the publishing, we can see that same ad has been published more than once on the same day"
   ],
   "metadata": {}
  },
  {
   "cell_type": "markdown",
   "source": [
    "### Raw metrics: <br>\r\n",
    "Impressions - Number of time the ad was shown <br>\r\n",
    "Clicks - Number of time the ad clicked shown <br>\r\n",
    "Cost - Amount spent to show ad <br>\r\n",
    "Conversions - Number of transactions received (higher the better) <br>\r\n",
    "Revenue - Total value of transactions received (higher the better) <br>\r\n",
    "<br>\r\n",
    "### Efficiency metrics (optional ) <br>\r\n",
    "CTR - Clicks / Impression (higher the better - used to evaluate if the users find the ad relevant and catchy) <br>\r\n",
    "CPC - Cost / Click (lower the better - used to evaluate if the cost for getting a click) <br>\r\n",
    "CPA - Cost / Conversion (lower the better - used to evaluate if the cost for getting a conversion) <br>\r\n",
    "ROI - Revenue/Cost (higher the better - used to evaluate the effectiveness of the advertising budget spent <br>"
   ],
   "metadata": {}
  },
  {
   "cell_type": "markdown",
   "source": [
    "## Feature Engineering"
   ],
   "metadata": {}
  },
  {
   "cell_type": "code",
   "execution_count": 12,
   "source": [
    "def feature(x):\r\n",
    "    x['CTR']=x['clicks']/x['impressions']\r\n",
    "    x['CPC']=x['cost']/x['clicks']\r\n",
    "    x['CPA']=x['cost']/x['conversions']\r\n",
    "    return x"
   ],
   "outputs": [],
   "metadata": {}
  },
  {
   "cell_type": "code",
   "execution_count": 13,
   "source": [
    "feature(train_raw)\r\n",
    "feature(test_raw)\r\n",
    "train_raw.head()"
   ],
   "outputs": [
    {
     "output_type": "execute_result",
     "data": {
      "text/plain": [
       "         date    campaign    adgroup    ad  impressions  clicks  cost  \\\n",
       "0  01-08-2020  campaign 1  adgroup 1  ad 1           24       6  0.08   \n",
       "1  01-08-2020  campaign 1  adgroup 2  ad 1            1       0  0.00   \n",
       "2  01-08-2020  campaign 1  adgroup 3  ad 1           13       4  0.04   \n",
       "3  01-08-2020  campaign 1  adgroup 4  ad 1            5       4  0.08   \n",
       "4  01-08-2020  campaign 1  adgroup 1  ad 2          247     126  1.29   \n",
       "\n",
       "   conversions  revenue       CTR       CPC     CPA  \n",
       "0            0     0.00  0.250000  0.013333     inf  \n",
       "1            0     0.00  0.000000       NaN     NaN  \n",
       "2            0     0.00  0.307692  0.010000     inf  \n",
       "3            0     0.00  0.800000  0.020000     inf  \n",
       "4            4   925.71  0.510121  0.010238  0.3225  "
      ],
      "text/html": [
       "<div>\n",
       "<style scoped>\n",
       "    .dataframe tbody tr th:only-of-type {\n",
       "        vertical-align: middle;\n",
       "    }\n",
       "\n",
       "    .dataframe tbody tr th {\n",
       "        vertical-align: top;\n",
       "    }\n",
       "\n",
       "    .dataframe thead th {\n",
       "        text-align: right;\n",
       "    }\n",
       "</style>\n",
       "<table border=\"1\" class=\"dataframe\">\n",
       "  <thead>\n",
       "    <tr style=\"text-align: right;\">\n",
       "      <th></th>\n",
       "      <th>date</th>\n",
       "      <th>campaign</th>\n",
       "      <th>adgroup</th>\n",
       "      <th>ad</th>\n",
       "      <th>impressions</th>\n",
       "      <th>clicks</th>\n",
       "      <th>cost</th>\n",
       "      <th>conversions</th>\n",
       "      <th>revenue</th>\n",
       "      <th>CTR</th>\n",
       "      <th>CPC</th>\n",
       "      <th>CPA</th>\n",
       "    </tr>\n",
       "  </thead>\n",
       "  <tbody>\n",
       "    <tr>\n",
       "      <th>0</th>\n",
       "      <td>01-08-2020</td>\n",
       "      <td>campaign 1</td>\n",
       "      <td>adgroup 1</td>\n",
       "      <td>ad 1</td>\n",
       "      <td>24</td>\n",
       "      <td>6</td>\n",
       "      <td>0.08</td>\n",
       "      <td>0</td>\n",
       "      <td>0.00</td>\n",
       "      <td>0.250000</td>\n",
       "      <td>0.013333</td>\n",
       "      <td>inf</td>\n",
       "    </tr>\n",
       "    <tr>\n",
       "      <th>1</th>\n",
       "      <td>01-08-2020</td>\n",
       "      <td>campaign 1</td>\n",
       "      <td>adgroup 2</td>\n",
       "      <td>ad 1</td>\n",
       "      <td>1</td>\n",
       "      <td>0</td>\n",
       "      <td>0.00</td>\n",
       "      <td>0</td>\n",
       "      <td>0.00</td>\n",
       "      <td>0.000000</td>\n",
       "      <td>NaN</td>\n",
       "      <td>NaN</td>\n",
       "    </tr>\n",
       "    <tr>\n",
       "      <th>2</th>\n",
       "      <td>01-08-2020</td>\n",
       "      <td>campaign 1</td>\n",
       "      <td>adgroup 3</td>\n",
       "      <td>ad 1</td>\n",
       "      <td>13</td>\n",
       "      <td>4</td>\n",
       "      <td>0.04</td>\n",
       "      <td>0</td>\n",
       "      <td>0.00</td>\n",
       "      <td>0.307692</td>\n",
       "      <td>0.010000</td>\n",
       "      <td>inf</td>\n",
       "    </tr>\n",
       "    <tr>\n",
       "      <th>3</th>\n",
       "      <td>01-08-2020</td>\n",
       "      <td>campaign 1</td>\n",
       "      <td>adgroup 4</td>\n",
       "      <td>ad 1</td>\n",
       "      <td>5</td>\n",
       "      <td>4</td>\n",
       "      <td>0.08</td>\n",
       "      <td>0</td>\n",
       "      <td>0.00</td>\n",
       "      <td>0.800000</td>\n",
       "      <td>0.020000</td>\n",
       "      <td>inf</td>\n",
       "    </tr>\n",
       "    <tr>\n",
       "      <th>4</th>\n",
       "      <td>01-08-2020</td>\n",
       "      <td>campaign 1</td>\n",
       "      <td>adgroup 1</td>\n",
       "      <td>ad 2</td>\n",
       "      <td>247</td>\n",
       "      <td>126</td>\n",
       "      <td>1.29</td>\n",
       "      <td>4</td>\n",
       "      <td>925.71</td>\n",
       "      <td>0.510121</td>\n",
       "      <td>0.010238</td>\n",
       "      <td>0.3225</td>\n",
       "    </tr>\n",
       "  </tbody>\n",
       "</table>\n",
       "</div>"
      ]
     },
     "metadata": {},
     "execution_count": 13
    }
   ],
   "metadata": {}
  },
  {
   "cell_type": "code",
   "execution_count": 14,
   "source": [
    "sns.heatmap(train_raw.isnull(), cmap='Blues', cbar=False, yticklabels=False, xticklabels=train_raw.columns);"
   ],
   "outputs": [
    {
     "output_type": "display_data",
     "data": {
      "text/plain": [
       "<Figure size 432x288 with 1 Axes>"
      ],
      "image/png": "[encoded data removed]"
     },
     "metadata": {
      "needs_background": "light"
     }
    }
   ],
   "metadata": {}
  },
  {
   "cell_type": "code",
   "execution_count": 15,
   "source": [
    "train_raw.isna().sum(),test_raw.isna().sum()"
   ],
   "outputs": [
    {
     "output_type": "execute_result",
     "data": {
      "text/plain": [
       "(date             0\n",
       " campaign         0\n",
       " adgroup          0\n",
       " ad               0\n",
       " impressions      0\n",
       " clicks           0\n",
       " cost             0\n",
       " conversions      0\n",
       " revenue          0\n",
       " CTR              0\n",
       " CPC            444\n",
       " CPA            444\n",
       " dtype: int64,\n",
       " date            0\n",
       " campaign        0\n",
       " adgroup         0\n",
       " ad              0\n",
       " cost            0\n",
       " impressions     0\n",
       " clicks          0\n",
       " conversions     0\n",
       " CTR             0\n",
       " CPC            36\n",
       " CPA            36\n",
       " dtype: int64)"
      ]
     },
     "metadata": {},
     "execution_count": 15
    }
   ],
   "metadata": {}
  },
  {
   "cell_type": "code",
   "execution_count": 16,
   "source": [
    "#counting infinity values\r\n",
    "count_var=['CTR','CPC','CPA']\r\n",
    "count=np.isinf(train_raw[count_var]).sum()\r\n",
    "count1=np.isinf(test_raw[count_var]).sum()\r\n",
    "count,count1"
   ],
   "outputs": [
    {
     "output_type": "execute_result",
     "data": {
      "text/plain": [
       "(CTR       0\n",
       " CPC       0\n",
       " CPA    2769\n",
       " dtype: int64,\n",
       " CTR      0\n",
       " CPC      0\n",
       " CPA    175\n",
       " dtype: int64)"
      ]
     },
     "metadata": {},
     "execution_count": 16
    }
   ],
   "metadata": {}
  },
  {
   "cell_type": "markdown",
   "source": [
    "There is NaN and Infinity values in the table now. \r\n",
    "2749 out of 4571 values are infinity. <br>\r\n",
    "We will try both getting rid of infinity values and keeping them. We will use Impute NaN with mean values/ zero <br>\r\n"
   ],
   "metadata": {}
  },
  {
   "cell_type": "code",
   "execution_count": 17,
   "source": [
    "train_raw = train_raw.replace(np.inf, np.nan)\r\n",
    "train_raw = train_raw.fillna(0)\r\n",
    "test_raw = test_raw.replace(np.inf, np.nan)\r\n",
    "test_raw = test_raw.fillna(0)"
   ],
   "outputs": [],
   "metadata": {}
  },
  {
   "cell_type": "code",
   "execution_count": 18,
   "source": [
    "train_raw.isna().sum(),test_raw.isna().sum()"
   ],
   "outputs": [
    {
     "output_type": "execute_result",
     "data": {
      "text/plain": [
       "(date           0\n",
       " campaign       0\n",
       " adgroup        0\n",
       " ad             0\n",
       " impressions    0\n",
       " clicks         0\n",
       " cost           0\n",
       " conversions    0\n",
       " revenue        0\n",
       " CTR            0\n",
       " CPC            0\n",
       " CPA            0\n",
       " dtype: int64,\n",
       " date           0\n",
       " campaign       0\n",
       " adgroup        0\n",
       " ad             0\n",
       " cost           0\n",
       " impressions    0\n",
       " clicks         0\n",
       " conversions    0\n",
       " CTR            0\n",
       " CPC            0\n",
       " CPA            0\n",
       " dtype: int64)"
      ]
     },
     "metadata": {},
     "execution_count": 18
    }
   ],
   "metadata": {}
  },
  {
   "cell_type": "code",
   "execution_count": 19,
   "source": [
    "sns.countplot(\"adgroup\", data = train_raw);"
   ],
   "outputs": [
    {
     "output_type": "display_data",
     "data": {
      "text/plain": [
       "<Figure size 432x288 with 1 Axes>"
      ],
      "image/png": "[encoded data removed]"
     },
     "metadata": {
      "needs_background": "light"
     }
    }
   ],
   "metadata": {}
  },
  {
   "cell_type": "markdown",
   "source": [
    "### Correlation"
   ],
   "metadata": {}
  },
  {
   "cell_type": "code",
   "execution_count": 20,
   "source": [
    "plt.figure(figsize=(12,8))\r\n",
    "sns.heatmap(train_raw.corr(),cmap='Blues',annot=True)"
   ],
   "outputs": [
    {
     "output_type": "execute_result",
     "data": {
      "text/plain": [
       "<matplotlib.axes._subplots.AxesSubplot at 0x1bdfe095f70>"
      ]
     },
     "metadata": {},
     "execution_count": 20
    },
    {
     "output_type": "display_data",
     "data": {
      "text/plain": [
       "<Figure size 864x576 with 2 Axes>"
      ],
      "image/png": "[encoded data removed]"
     },
     "metadata": {
      "needs_background": "light"
     }
    }
   ],
   "metadata": {}
  },
  {
   "cell_type": "markdown",
   "source": [
    "Here we can see that there is a strong positive correlation  between all variables except efficiency metrics, which is not surprising as there features are all different levels in the same funnel. Although 0.58 is strong correlatioan between cost and revenue this however isnt as strong as the other variables. This is indicative of the fact that spending more money on ads is not the best way for revenue maximization. \r\n"
   ],
   "metadata": {}
  },
  {
   "cell_type": "markdown",
   "source": [
    "### Outlier Evaluation\r\n"
   ],
   "metadata": {}
  },
  {
   "cell_type": "code",
   "execution_count": 21,
   "source": [
    "train_raw[train_raw.describe().columns].boxplot(showfliers = False)"
   ],
   "outputs": [
    {
     "output_type": "execute_result",
     "data": {
      "text/plain": [
       "<matplotlib.axes._subplots.AxesSubplot at 0x1bdfe42b4f0>"
      ]
     },
     "metadata": {},
     "execution_count": 21
    },
    {
     "output_type": "display_data",
     "data": {
      "text/plain": [
       "<Figure size 432x288 with 1 Axes>"
      ],
      "image/png": "[encoded data removed]"
     },
     "metadata": {
      "needs_background": "light"
     }
    }
   ],
   "metadata": {}
  },
  {
   "cell_type": "code",
   "execution_count": 22,
   "source": [
    "l= train_raw.select_dtypes(include=[np.number]).columns.values\r\n",
    "plt.figure(figsize=(20,15))\r\n",
    "for i in range(0,8):\r\n",
    "    plt.subplot(3 ,4,i+1)\r\n",
    "    sns.scatterplot(train_raw[l[i]],train_raw[l[4]])\r\n",
    "    plt.tight_layout()"
   ],
   "outputs": [
    {
     "output_type": "display_data",
     "data": {
      "text/plain": [
       "<Figure size 1440x1080 with 8 Axes>"
      ],
      "image/png": "[encoded data removed]"
     },
     "metadata": {
      "needs_background": "light"
     }
    }
   ],
   "metadata": {}
  },
  {
   "cell_type": "markdown",
   "source": [
    "### Checking Skewness"
   ],
   "metadata": {}
  },
  {
   "cell_type": "code",
   "execution_count": 23,
   "source": [
    "train_raw.skew()"
   ],
   "outputs": [
    {
     "output_type": "execute_result",
     "data": {
      "text/plain": [
       "impressions     4.944993\n",
       "clicks          6.108985\n",
       "cost           18.786924\n",
       "conversions    10.355685\n",
       "revenue        11.661765\n",
       "CTR             0.600136\n",
       "CPC            10.091079\n",
       "CPA             9.813791\n",
       "dtype: float64"
      ]
     },
     "metadata": {},
     "execution_count": 23
    }
   ],
   "metadata": {}
  },
  {
   "cell_type": "code",
   "execution_count": 24,
   "source": [
    "l= train_raw.select_dtypes(include=[np.number]).columns.values\r\n",
    "plt.figure(figsize=(15,10))\r\n",
    "for i in range(0,5):\r\n",
    "    plt.subplot(3 ,4,i+1)\r\n",
    "    sns.distplot(train_raw[l[i]],kde=True)\r\n",
    "    plt.tight_layout()"
   ],
   "outputs": [
    {
     "output_type": "display_data",
     "data": {
      "text/plain": [
       "<Figure size 1080x720 with 5 Axes>"
      ],
      "image/png": "[encoded data removed]"
     },
     "metadata": {
      "needs_background": "light"
     }
    }
   ],
   "metadata": {}
  },
  {
   "cell_type": "markdown",
   "source": [
    "# Feature Transformation"
   ],
   "metadata": {}
  },
  {
   "cell_type": "markdown",
   "source": [
    "## Remove Outliers"
   ],
   "metadata": {}
  },
  {
   "cell_type": "code",
   "execution_count": 25,
   "source": [
    "nums =['impressions', 'clicks', 'cost', 'conversions','CTR','CPA','CPC']\r\n",
    "from scipy import stats\r\n",
    "train_raw=train_raw[(np.abs(stats.zscore(train_raw[nums]))<3).all(axis=1)]\r\n",
    "train_raw.shape\r\n"
   ],
   "outputs": [
    {
     "output_type": "execute_result",
     "data": {
      "text/plain": [
       "(4315, 12)"
      ]
     },
     "metadata": {},
     "execution_count": 25
    }
   ],
   "metadata": {}
  },
  {
   "cell_type": "code",
   "execution_count": 26,
   "source": [
    "train_raw.describe()"
   ],
   "outputs": [
    {
     "output_type": "execute_result",
     "data": {
      "text/plain": [
       "       impressions       clicks         cost  conversions      revenue  \\\n",
       "count  4315.000000  4315.000000  4315.000000  4315.000000  4315.000000   \n",
       "mean     69.048436    31.411587     1.330477     0.804635   125.920948   \n",
       "std     122.738118    55.973773     3.611430     1.901023   333.376432   \n",
       "min       1.000000     0.000000     0.000000     0.000000     0.000000   \n",
       "25%       5.000000     2.000000     0.040000     0.000000     0.000000   \n",
       "50%      15.000000     7.000000     0.170000     0.000000     0.000000   \n",
       "75%      67.000000    29.000000     1.090000     1.000000    62.025000   \n",
       "max     685.000000   334.000000    43.690000    17.000000  4074.040000   \n",
       "\n",
       "               CTR          CPC          CPA  \n",
       "count  4315.000000  4315.000000  4315.000000  \n",
       "mean      0.433046     0.044356     0.311621  \n",
       "std       0.224882     0.069762     0.843935  \n",
       "min       0.000000     0.000000     0.000000  \n",
       "25%       0.333333     0.010272     0.000000  \n",
       "50%       0.445312     0.015000     0.000000  \n",
       "75%       0.531967     0.046056     0.100000  \n",
       "max       1.000000     0.462000     6.451667  "
      ],
      "text/html": [
       "<div>\n",
       "<style scoped>\n",
       "    .dataframe tbody tr th:only-of-type {\n",
       "        vertical-align: middle;\n",
       "    }\n",
       "\n",
       "    .dataframe tbody tr th {\n",
       "        vertical-align: top;\n",
       "    }\n",
       "\n",
       "    .dataframe thead th {\n",
       "        text-align: right;\n",
       "    }\n",
       "</style>\n",
       "<table border=\"1\" class=\"dataframe\">\n",
       "  <thead>\n",
       "    <tr style=\"text-align: right;\">\n",
       "      <th></th>\n",
       "      <th>impressions</th>\n",
       "      <th>clicks</th>\n",
       "      <th>cost</th>\n",
       "      <th>conversions</th>\n",
       "      <th>revenue</th>\n",
       "      <th>CTR</th>\n",
       "      <th>CPC</th>\n",
       "      <th>CPA</th>\n",
       "    </tr>\n",
       "  </thead>\n",
       "  <tbody>\n",
       "    <tr>\n",
       "      <th>count</th>\n",
       "      <td>4315.000000</td>\n",
       "      <td>4315.000000</td>\n",
       "      <td>4315.000000</td>\n",
       "      <td>4315.000000</td>\n",
       "      <td>4315.000000</td>\n",
       "      <td>4315.000000</td>\n",
       "      <td>4315.000000</td>\n",
       "      <td>4315.000000</td>\n",
       "    </tr>\n",
       "    <tr>\n",
       "      <th>mean</th>\n",
       "      <td>69.048436</td>\n",
       "      <td>31.411587</td>\n",
       "      <td>1.330477</td>\n",
       "      <td>0.804635</td>\n",
       "      <td>125.920948</td>\n",
       "      <td>0.433046</td>\n",
       "      <td>0.044356</td>\n",
       "      <td>0.311621</td>\n",
       "    </tr>\n",
       "    <tr>\n",
       "      <th>std</th>\n",
       "      <td>122.738118</td>\n",
       "      <td>55.973773</td>\n",
       "      <td>3.611430</td>\n",
       "      <td>1.901023</td>\n",
       "      <td>333.376432</td>\n",
       "      <td>0.224882</td>\n",
       "      <td>0.069762</td>\n",
       "      <td>0.843935</td>\n",
       "    </tr>\n",
       "    <tr>\n",
       "      <th>min</th>\n",
       "      <td>1.000000</td>\n",
       "      <td>0.000000</td>\n",
       "      <td>0.000000</td>\n",
       "      <td>0.000000</td>\n",
       "      <td>0.000000</td>\n",
       "      <td>0.000000</td>\n",
       "      <td>0.000000</td>\n",
       "      <td>0.000000</td>\n",
       "    </tr>\n",
       "    <tr>\n",
       "      <th>25%</th>\n",
       "      <td>5.000000</td>\n",
       "      <td>2.000000</td>\n",
       "      <td>0.040000</td>\n",
       "      <td>0.000000</td>\n",
       "      <td>0.000000</td>\n",
       "      <td>0.333333</td>\n",
       "      <td>0.010272</td>\n",
       "      <td>0.000000</td>\n",
       "    </tr>\n",
       "    <tr>\n",
       "      <th>50%</th>\n",
       "      <td>15.000000</td>\n",
       "      <td>7.000000</td>\n",
       "      <td>0.170000</td>\n",
       "      <td>0.000000</td>\n",
       "      <td>0.000000</td>\n",
       "      <td>0.445312</td>\n",
       "      <td>0.015000</td>\n",
       "      <td>0.000000</td>\n",
       "    </tr>\n",
       "    <tr>\n",
       "      <th>75%</th>\n",
       "      <td>67.000000</td>\n",
       "      <td>29.000000</td>\n",
       "      <td>1.090000</td>\n",
       "      <td>1.000000</td>\n",
       "      <td>62.025000</td>\n",
       "      <td>0.531967</td>\n",
       "      <td>0.046056</td>\n",
       "      <td>0.100000</td>\n",
       "    </tr>\n",
       "    <tr>\n",
       "      <th>max</th>\n",
       "      <td>685.000000</td>\n",
       "      <td>334.000000</td>\n",
       "      <td>43.690000</td>\n",
       "      <td>17.000000</td>\n",
       "      <td>4074.040000</td>\n",
       "      <td>1.000000</td>\n",
       "      <td>0.462000</td>\n",
       "      <td>6.451667</td>\n",
       "    </tr>\n",
       "  </tbody>\n",
       "</table>\n",
       "</div>"
      ]
     },
     "metadata": {},
     "execution_count": 26
    }
   ],
   "metadata": {}
  },
  {
   "cell_type": "code",
   "execution_count": 27,
   "source": [
    "l= train_raw.select_dtypes(include=[np.number]).columns.values\r\n",
    "plt.figure(figsize=(20,15))\r\n",
    "for i in range(0,8):\r\n",
    "    plt.subplot(3 ,4,i+1)\r\n",
    "    sns.scatterplot(train_raw[l[i]],train_raw[l[4]])\r\n",
    "    plt.tight_layout()"
   ],
   "outputs": [
    {
     "output_type": "display_data",
     "data": {
      "text/plain": [
       "<Figure size 1440x1080 with 8 Axes>"
      ],
      "image/png": "[encoded data removed]"
     },
     "metadata": {
      "needs_background": "light"
     }
    }
   ],
   "metadata": {}
  },
  {
   "cell_type": "code",
   "execution_count": 28,
   "source": [
    "train_raw.skew()"
   ],
   "outputs": [
    {
     "output_type": "execute_result",
     "data": {
      "text/plain": [
       "impressions    2.702753\n",
       "clicks         2.626966\n",
       "cost           6.121493\n",
       "conversions    3.435434\n",
       "revenue        4.234434\n",
       "CTR            0.133384\n",
       "CPC            2.983621\n",
       "CPA            3.905156\n",
       "dtype: float64"
      ]
     },
     "metadata": {},
     "execution_count": 28
    }
   ],
   "metadata": {}
  },
  {
   "cell_type": "markdown",
   "source": [
    "Here we can see that despite the outliers within 3 std deviation taken out the data still has skewness. But the skewness has come down drastically. The number of rows has now reduced from 4571 to 4460.\r\n",
    "  <br>\r\n",
    "We can apply transformation to further reduce the skewness in data."
   ],
   "metadata": {}
  },
  {
   "cell_type": "markdown",
   "source": [
    "## Reduce Skewness"
   ],
   "metadata": {}
  },
  {
   "cell_type": "code",
   "execution_count": 29,
   "source": [
    "#Log Transform\r\n",
    "np.log(train_raw[nums]).skew()"
   ],
   "outputs": [
    {
     "output_type": "execute_result",
     "data": {
      "text/plain": [
       "impressions    0.174424\n",
       "clicks              NaN\n",
       "cost                NaN\n",
       "conversions         NaN\n",
       "CTR                 NaN\n",
       "CPA                 NaN\n",
       "CPC                 NaN\n",
       "dtype: float64"
      ]
     },
     "metadata": {},
     "execution_count": 29
    }
   ],
   "metadata": {}
  },
  {
   "cell_type": "markdown",
   "source": [
    "Log transform is difficult because data is't strictly positive"
   ],
   "metadata": {}
  },
  {
   "cell_type": "code",
   "execution_count": 30,
   "source": [
    "np.sqrt(train_raw[nums]).skew()"
   ],
   "outputs": [
    {
     "output_type": "execute_result",
     "data": {
      "text/plain": [
       "impressions    1.540407\n",
       "clicks         1.439118\n",
       "cost           2.497585\n",
       "conversions    1.773679\n",
       "CTR           -1.436468\n",
       "CPA            2.153457\n",
       "CPC            1.444728\n",
       "dtype: float64"
      ]
     },
     "metadata": {},
     "execution_count": 30
    }
   ],
   "metadata": {}
  },
  {
   "cell_type": "code",
   "execution_count": 31,
   "source": [
    "train=train_raw\r\n",
    "train[nums]=np.sqrt(train_raw[nums])\r\n",
    "train.head()"
   ],
   "outputs": [
    {
     "output_type": "execute_result",
     "data": {
      "text/plain": [
       "         date    campaign    adgroup    ad  impressions     clicks      cost  \\\n",
       "0  01-08-2020  campaign 1  adgroup 1  ad 1     4.898979   2.449490  0.282843   \n",
       "1  01-08-2020  campaign 1  adgroup 2  ad 1     1.000000   0.000000  0.000000   \n",
       "2  01-08-2020  campaign 1  adgroup 3  ad 1     3.605551   2.000000  0.200000   \n",
       "3  01-08-2020  campaign 1  adgroup 4  ad 1     2.236068   2.000000  0.282843   \n",
       "4  01-08-2020  campaign 1  adgroup 1  ad 2    15.716234  11.224972  1.135782   \n",
       "\n",
       "   conversions  revenue       CTR       CPC       CPA  \n",
       "0          0.0     0.00  0.500000  0.115470  0.000000  \n",
       "1          0.0     0.00  0.000000  0.000000  0.000000  \n",
       "2          0.0     0.00  0.554700  0.100000  0.000000  \n",
       "3          0.0     0.00  0.894427  0.141421  0.000000  \n",
       "4          2.0   925.71  0.714228  0.101183  0.567891  "
      ],
      "text/html": [
       "<div>\n",
       "<style scoped>\n",
       "    .dataframe tbody tr th:only-of-type {\n",
       "        vertical-align: middle;\n",
       "    }\n",
       "\n",
       "    .dataframe tbody tr th {\n",
       "        vertical-align: top;\n",
       "    }\n",
       "\n",
       "    .dataframe thead th {\n",
       "        text-align: right;\n",
       "    }\n",
       "</style>\n",
       "<table border=\"1\" class=\"dataframe\">\n",
       "  <thead>\n",
       "    <tr style=\"text-align: right;\">\n",
       "      <th></th>\n",
       "      <th>date</th>\n",
       "      <th>campaign</th>\n",
       "      <th>adgroup</th>\n",
       "      <th>ad</th>\n",
       "      <th>impressions</th>\n",
       "      <th>clicks</th>\n",
       "      <th>cost</th>\n",
       "      <th>conversions</th>\n",
       "      <th>revenue</th>\n",
       "      <th>CTR</th>\n",
       "      <th>CPC</th>\n",
       "      <th>CPA</th>\n",
       "    </tr>\n",
       "  </thead>\n",
       "  <tbody>\n",
       "    <tr>\n",
       "      <th>0</th>\n",
       "      <td>01-08-2020</td>\n",
       "      <td>campaign 1</td>\n",
       "      <td>adgroup 1</td>\n",
       "      <td>ad 1</td>\n",
       "      <td>4.898979</td>\n",
       "      <td>2.449490</td>\n",
       "      <td>0.282843</td>\n",
       "      <td>0.0</td>\n",
       "      <td>0.00</td>\n",
       "      <td>0.500000</td>\n",
       "      <td>0.115470</td>\n",
       "      <td>0.000000</td>\n",
       "    </tr>\n",
       "    <tr>\n",
       "      <th>1</th>\n",
       "      <td>01-08-2020</td>\n",
       "      <td>campaign 1</td>\n",
       "      <td>adgroup 2</td>\n",
       "      <td>ad 1</td>\n",
       "      <td>1.000000</td>\n",
       "      <td>0.000000</td>\n",
       "      <td>0.000000</td>\n",
       "      <td>0.0</td>\n",
       "      <td>0.00</td>\n",
       "      <td>0.000000</td>\n",
       "      <td>0.000000</td>\n",
       "      <td>0.000000</td>\n",
       "    </tr>\n",
       "    <tr>\n",
       "      <th>2</th>\n",
       "      <td>01-08-2020</td>\n",
       "      <td>campaign 1</td>\n",
       "      <td>adgroup 3</td>\n",
       "      <td>ad 1</td>\n",
       "      <td>3.605551</td>\n",
       "      <td>2.000000</td>\n",
       "      <td>0.200000</td>\n",
       "      <td>0.0</td>\n",
       "      <td>0.00</td>\n",
       "      <td>0.554700</td>\n",
       "      <td>0.100000</td>\n",
       "      <td>0.000000</td>\n",
       "    </tr>\n",
       "    <tr>\n",
       "      <th>3</th>\n",
       "      <td>01-08-2020</td>\n",
       "      <td>campaign 1</td>\n",
       "      <td>adgroup 4</td>\n",
       "      <td>ad 1</td>\n",
       "      <td>2.236068</td>\n",
       "      <td>2.000000</td>\n",
       "      <td>0.282843</td>\n",
       "      <td>0.0</td>\n",
       "      <td>0.00</td>\n",
       "      <td>0.894427</td>\n",
       "      <td>0.141421</td>\n",
       "      <td>0.000000</td>\n",
       "    </tr>\n",
       "    <tr>\n",
       "      <th>4</th>\n",
       "      <td>01-08-2020</td>\n",
       "      <td>campaign 1</td>\n",
       "      <td>adgroup 1</td>\n",
       "      <td>ad 2</td>\n",
       "      <td>15.716234</td>\n",
       "      <td>11.224972</td>\n",
       "      <td>1.135782</td>\n",
       "      <td>2.0</td>\n",
       "      <td>925.71</td>\n",
       "      <td>0.714228</td>\n",
       "      <td>0.101183</td>\n",
       "      <td>0.567891</td>\n",
       "    </tr>\n",
       "  </tbody>\n",
       "</table>\n",
       "</div>"
      ]
     },
     "metadata": {},
     "execution_count": 31
    }
   ],
   "metadata": {}
  },
  {
   "cell_type": "code",
   "execution_count": 32,
   "source": [
    "test=test_raw\r\n",
    "test[nums]=np.sqrt(test_raw[nums])"
   ],
   "outputs": [],
   "metadata": {}
  },
  {
   "cell_type": "markdown",
   "source": [
    "Here we can see that the skewness has been further reduced. Out of the three techniques sqrt is the only one working for all numerical variables. Boxcox isn't working for 'cost' etc cus the value isn't strictly positive. "
   ],
   "metadata": {}
  },
  {
   "cell_type": "markdown",
   "source": [
    "## Feature Selection"
   ],
   "metadata": {}
  },
  {
   "cell_type": "markdown",
   "source": [
    "ANOVA"
   ],
   "metadata": {}
  },
  {
   "cell_type": "code",
   "execution_count": 33,
   "source": [
    "train.columns"
   ],
   "outputs": [
    {
     "output_type": "execute_result",
     "data": {
      "text/plain": [
       "Index(['date', 'campaign', 'adgroup', 'ad', 'impressions', 'clicks', 'cost',\n",
       "       'conversions', 'revenue', 'CTR', 'CPC', 'CPA'],\n",
       "      dtype='object')"
      ]
     },
     "metadata": {},
     "execution_count": 33
    }
   ],
   "metadata": {}
  },
  {
   "cell_type": "code",
   "execution_count": 34,
   "source": [
    "var =['impressions', 'clicks', 'cost','conversions','CTR', 'CPC','CPA']\r\n",
    "xd=train[var]\r\n",
    "yd=train['revenue']\r\n",
    "from sklearn.feature_selection import f_classif\r\n",
    "fscore,pvalue = f_classif(xd,yd)\r\n",
    "for i in range (len(var)):print(var[i],pvalue[i],pvalue[i]<0.05)\r\n"
   ],
   "outputs": [
    {
     "output_type": "stream",
     "name": "stdout",
     "text": [
      "impressions 0.0 True\n",
      "clicks 0.0 True\n",
      "cost 0.0 True\n",
      "conversions 0.0 True\n",
      "CTR 0.9999999999999999 False\n",
      "CPC 0.9999999999999553 False\n",
      "CPA 0.0 True\n"
     ]
    }
   ],
   "metadata": {}
  },
  {
   "cell_type": "markdown",
   "source": [
    "It's showing that CTR & CPC is are significant varaibles for the model. We will remove it and try when fine tuning the model"
   ],
   "metadata": {}
  },
  {
   "cell_type": "markdown",
   "source": [
    "## Transforming & Encoding Categorical Variables"
   ],
   "metadata": {}
  },
  {
   "cell_type": "code",
   "execution_count": 35,
   "source": [
    "train=train.drop(['date','ad','campaign'],1)\r\n",
    "train.head()"
   ],
   "outputs": [
    {
     "output_type": "execute_result",
     "data": {
      "text/plain": [
       "     adgroup  impressions     clicks      cost  conversions  revenue  \\\n",
       "0  adgroup 1     4.898979   2.449490  0.282843          0.0     0.00   \n",
       "1  adgroup 2     1.000000   0.000000  0.000000          0.0     0.00   \n",
       "2  adgroup 3     3.605551   2.000000  0.200000          0.0     0.00   \n",
       "3  adgroup 4     2.236068   2.000000  0.282843          0.0     0.00   \n",
       "4  adgroup 1    15.716234  11.224972  1.135782          2.0   925.71   \n",
       "\n",
       "        CTR       CPC       CPA  \n",
       "0  0.500000  0.115470  0.000000  \n",
       "1  0.000000  0.000000  0.000000  \n",
       "2  0.554700  0.100000  0.000000  \n",
       "3  0.894427  0.141421  0.000000  \n",
       "4  0.714228  0.101183  0.567891  "
      ],
      "text/html": [
       "<div>\n",
       "<style scoped>\n",
       "    .dataframe tbody tr th:only-of-type {\n",
       "        vertical-align: middle;\n",
       "    }\n",
       "\n",
       "    .dataframe tbody tr th {\n",
       "        vertical-align: top;\n",
       "    }\n",
       "\n",
       "    .dataframe thead th {\n",
       "        text-align: right;\n",
       "    }\n",
       "</style>\n",
       "<table border=\"1\" class=\"dataframe\">\n",
       "  <thead>\n",
       "    <tr style=\"text-align: right;\">\n",
       "      <th></th>\n",
       "      <th>adgroup</th>\n",
       "      <th>impressions</th>\n",
       "      <th>clicks</th>\n",
       "      <th>cost</th>\n",
       "      <th>conversions</th>\n",
       "      <th>revenue</th>\n",
       "      <th>CTR</th>\n",
       "      <th>CPC</th>\n",
       "      <th>CPA</th>\n",
       "    </tr>\n",
       "  </thead>\n",
       "  <tbody>\n",
       "    <tr>\n",
       "      <th>0</th>\n",
       "      <td>adgroup 1</td>\n",
       "      <td>4.898979</td>\n",
       "      <td>2.449490</td>\n",
       "      <td>0.282843</td>\n",
       "      <td>0.0</td>\n",
       "      <td>0.00</td>\n",
       "      <td>0.500000</td>\n",
       "      <td>0.115470</td>\n",
       "      <td>0.000000</td>\n",
       "    </tr>\n",
       "    <tr>\n",
       "      <th>1</th>\n",
       "      <td>adgroup 2</td>\n",
       "      <td>1.000000</td>\n",
       "      <td>0.000000</td>\n",
       "      <td>0.000000</td>\n",
       "      <td>0.0</td>\n",
       "      <td>0.00</td>\n",
       "      <td>0.000000</td>\n",
       "      <td>0.000000</td>\n",
       "      <td>0.000000</td>\n",
       "    </tr>\n",
       "    <tr>\n",
       "      <th>2</th>\n",
       "      <td>adgroup 3</td>\n",
       "      <td>3.605551</td>\n",
       "      <td>2.000000</td>\n",
       "      <td>0.200000</td>\n",
       "      <td>0.0</td>\n",
       "      <td>0.00</td>\n",
       "      <td>0.554700</td>\n",
       "      <td>0.100000</td>\n",
       "      <td>0.000000</td>\n",
       "    </tr>\n",
       "    <tr>\n",
       "      <th>3</th>\n",
       "      <td>adgroup 4</td>\n",
       "      <td>2.236068</td>\n",
       "      <td>2.000000</td>\n",
       "      <td>0.282843</td>\n",
       "      <td>0.0</td>\n",
       "      <td>0.00</td>\n",
       "      <td>0.894427</td>\n",
       "      <td>0.141421</td>\n",
       "      <td>0.000000</td>\n",
       "    </tr>\n",
       "    <tr>\n",
       "      <th>4</th>\n",
       "      <td>adgroup 1</td>\n",
       "      <td>15.716234</td>\n",
       "      <td>11.224972</td>\n",
       "      <td>1.135782</td>\n",
       "      <td>2.0</td>\n",
       "      <td>925.71</td>\n",
       "      <td>0.714228</td>\n",
       "      <td>0.101183</td>\n",
       "      <td>0.567891</td>\n",
       "    </tr>\n",
       "  </tbody>\n",
       "</table>\n",
       "</div>"
      ]
     },
     "metadata": {},
     "execution_count": 35
    }
   ],
   "metadata": {}
  },
  {
   "cell_type": "code",
   "execution_count": 36,
   "source": [
    "test=test.drop(['date','ad','campaign'],1)\r\n",
    "test.head()"
   ],
   "outputs": [
    {
     "output_type": "execute_result",
     "data": {
      "text/plain": [
       "     adgroup      cost  impressions    clicks  conversions       CTR  \\\n",
       "0  adgroup 1  0.761577    11.000000  7.000000          1.0  0.636364   \n",
       "1  adgroup 3  0.412311     4.690416  3.464102          0.0  0.738549   \n",
       "2  adgroup 4  0.223607     2.236068  1.732051          0.0  0.774597   \n",
       "3  adgroup 2  0.100000     1.414214  1.000000          0.0  0.707107   \n",
       "4  adgroup 2  0.100000     1.732051  1.000000          0.0  0.577350   \n",
       "\n",
       "        CPC       CPA  \n",
       "0  0.108797  0.761577  \n",
       "1  0.119024  0.000000  \n",
       "2  0.129099  0.000000  \n",
       "3  0.100000  0.000000  \n",
       "4  0.100000  0.000000  "
      ],
      "text/html": [
       "<div>\n",
       "<style scoped>\n",
       "    .dataframe tbody tr th:only-of-type {\n",
       "        vertical-align: middle;\n",
       "    }\n",
       "\n",
       "    .dataframe tbody tr th {\n",
       "        vertical-align: top;\n",
       "    }\n",
       "\n",
       "    .dataframe thead th {\n",
       "        text-align: right;\n",
       "    }\n",
       "</style>\n",
       "<table border=\"1\" class=\"dataframe\">\n",
       "  <thead>\n",
       "    <tr style=\"text-align: right;\">\n",
       "      <th></th>\n",
       "      <th>adgroup</th>\n",
       "      <th>cost</th>\n",
       "      <th>impressions</th>\n",
       "      <th>clicks</th>\n",
       "      <th>conversions</th>\n",
       "      <th>CTR</th>\n",
       "      <th>CPC</th>\n",
       "      <th>CPA</th>\n",
       "    </tr>\n",
       "  </thead>\n",
       "  <tbody>\n",
       "    <tr>\n",
       "      <th>0</th>\n",
       "      <td>adgroup 1</td>\n",
       "      <td>0.761577</td>\n",
       "      <td>11.000000</td>\n",
       "      <td>7.000000</td>\n",
       "      <td>1.0</td>\n",
       "      <td>0.636364</td>\n",
       "      <td>0.108797</td>\n",
       "      <td>0.761577</td>\n",
       "    </tr>\n",
       "    <tr>\n",
       "      <th>1</th>\n",
       "      <td>adgroup 3</td>\n",
       "      <td>0.412311</td>\n",
       "      <td>4.690416</td>\n",
       "      <td>3.464102</td>\n",
       "      <td>0.0</td>\n",
       "      <td>0.738549</td>\n",
       "      <td>0.119024</td>\n",
       "      <td>0.000000</td>\n",
       "    </tr>\n",
       "    <tr>\n",
       "      <th>2</th>\n",
       "      <td>adgroup 4</td>\n",
       "      <td>0.223607</td>\n",
       "      <td>2.236068</td>\n",
       "      <td>1.732051</td>\n",
       "      <td>0.0</td>\n",
       "      <td>0.774597</td>\n",
       "      <td>0.129099</td>\n",
       "      <td>0.000000</td>\n",
       "    </tr>\n",
       "    <tr>\n",
       "      <th>3</th>\n",
       "      <td>adgroup 2</td>\n",
       "      <td>0.100000</td>\n",
       "      <td>1.414214</td>\n",
       "      <td>1.000000</td>\n",
       "      <td>0.0</td>\n",
       "      <td>0.707107</td>\n",
       "      <td>0.100000</td>\n",
       "      <td>0.000000</td>\n",
       "    </tr>\n",
       "    <tr>\n",
       "      <th>4</th>\n",
       "      <td>adgroup 2</td>\n",
       "      <td>0.100000</td>\n",
       "      <td>1.732051</td>\n",
       "      <td>1.000000</td>\n",
       "      <td>0.0</td>\n",
       "      <td>0.577350</td>\n",
       "      <td>0.100000</td>\n",
       "      <td>0.000000</td>\n",
       "    </tr>\n",
       "  </tbody>\n",
       "</table>\n",
       "</div>"
      ]
     },
     "metadata": {},
     "execution_count": 36
    }
   ],
   "metadata": {}
  },
  {
   "cell_type": "code",
   "execution_count": 37,
   "source": [
    "'''\r\n",
    "change categorical features to numerical\r\n",
    "train[['del', 'adgroup']] = train['adgroup'].str.split(' ', 1, expand=True)\r\n",
    "train[['del1', 'ad']] = train['ad'].str.split(' ', 1, expand=True)\r\n",
    "train=train.drop(['del'],axis=1)\r\n",
    "train.head()\r\n",
    "'''"
   ],
   "outputs": [
    {
     "output_type": "execute_result",
     "data": {
      "text/plain": [
       "\"\\nchange categorical features to numerical\\ntrain[['del', 'adgroup']] = train['adgroup'].str.split(' ', 1, expand=True)\\ntrain[['del1', 'ad']] = train['ad'].str.split(' ', 1, expand=True)\\ntrain=train.drop(['del'],axis=1)\\ntrain.head()\\n\""
      ]
     },
     "metadata": {},
     "execution_count": 37
    }
   ],
   "metadata": {}
  },
  {
   "cell_type": "code",
   "execution_count": 38,
   "source": [
    "train.columns"
   ],
   "outputs": [
    {
     "output_type": "execute_result",
     "data": {
      "text/plain": [
       "Index(['adgroup', 'impressions', 'clicks', 'cost', 'conversions', 'revenue',\n",
       "       'CTR', 'CPC', 'CPA'],\n",
       "      dtype='object')"
      ]
     },
     "metadata": {},
     "execution_count": 38
    }
   ],
   "metadata": {}
  },
  {
   "cell_type": "code",
   "execution_count": 39,
   "source": [
    "#onehotencoding on nominal data\r\n",
    "train= pd.get_dummies(train, columns=['adgroup'])\r\n",
    "test= pd.get_dummies(test, columns=['adgroup'])\r\n",
    "#train= pd.get_dummies(train, columns=['ad'])\r\n",
    "train.head()"
   ],
   "outputs": [
    {
     "output_type": "execute_result",
     "data": {
      "text/plain": [
       "   impressions     clicks      cost  conversions  revenue       CTR       CPC  \\\n",
       "0     4.898979   2.449490  0.282843          0.0     0.00  0.500000  0.115470   \n",
       "1     1.000000   0.000000  0.000000          0.0     0.00  0.000000  0.000000   \n",
       "2     3.605551   2.000000  0.200000          0.0     0.00  0.554700  0.100000   \n",
       "3     2.236068   2.000000  0.282843          0.0     0.00  0.894427  0.141421   \n",
       "4    15.716234  11.224972  1.135782          2.0   925.71  0.714228  0.101183   \n",
       "\n",
       "        CPA  adgroup_adgroup 1  adgroup_adgroup 2  adgroup_adgroup 3  \\\n",
       "0  0.000000                  1                  0                  0   \n",
       "1  0.000000                  0                  1                  0   \n",
       "2  0.000000                  0                  0                  1   \n",
       "3  0.000000                  0                  0                  0   \n",
       "4  0.567891                  1                  0                  0   \n",
       "\n",
       "   adgroup_adgroup 4  \n",
       "0                  0  \n",
       "1                  0  \n",
       "2                  0  \n",
       "3                  1  \n",
       "4                  0  "
      ],
      "text/html": [
       "<div>\n",
       "<style scoped>\n",
       "    .dataframe tbody tr th:only-of-type {\n",
       "        vertical-align: middle;\n",
       "    }\n",
       "\n",
       "    .dataframe tbody tr th {\n",
       "        vertical-align: top;\n",
       "    }\n",
       "\n",
       "    .dataframe thead th {\n",
       "        text-align: right;\n",
       "    }\n",
       "</style>\n",
       "<table border=\"1\" class=\"dataframe\">\n",
       "  <thead>\n",
       "    <tr style=\"text-align: right;\">\n",
       "      <th></th>\n",
       "      <th>impressions</th>\n",
       "      <th>clicks</th>\n",
       "      <th>cost</th>\n",
       "      <th>conversions</th>\n",
       "      <th>revenue</th>\n",
       "      <th>CTR</th>\n",
       "      <th>CPC</th>\n",
       "      <th>CPA</th>\n",
       "      <th>adgroup_adgroup 1</th>\n",
       "      <th>adgroup_adgroup 2</th>\n",
       "      <th>adgroup_adgroup 3</th>\n",
       "      <th>adgroup_adgroup 4</th>\n",
       "    </tr>\n",
       "  </thead>\n",
       "  <tbody>\n",
       "    <tr>\n",
       "      <th>0</th>\n",
       "      <td>4.898979</td>\n",
       "      <td>2.449490</td>\n",
       "      <td>0.282843</td>\n",
       "      <td>0.0</td>\n",
       "      <td>0.00</td>\n",
       "      <td>0.500000</td>\n",
       "      <td>0.115470</td>\n",
       "      <td>0.000000</td>\n",
       "      <td>1</td>\n",
       "      <td>0</td>\n",
       "      <td>0</td>\n",
       "      <td>0</td>\n",
       "    </tr>\n",
       "    <tr>\n",
       "      <th>1</th>\n",
       "      <td>1.000000</td>\n",
       "      <td>0.000000</td>\n",
       "      <td>0.000000</td>\n",
       "      <td>0.0</td>\n",
       "      <td>0.00</td>\n",
       "      <td>0.000000</td>\n",
       "      <td>0.000000</td>\n",
       "      <td>0.000000</td>\n",
       "      <td>0</td>\n",
       "      <td>1</td>\n",
       "      <td>0</td>\n",
       "      <td>0</td>\n",
       "    </tr>\n",
       "    <tr>\n",
       "      <th>2</th>\n",
       "      <td>3.605551</td>\n",
       "      <td>2.000000</td>\n",
       "      <td>0.200000</td>\n",
       "      <td>0.0</td>\n",
       "      <td>0.00</td>\n",
       "      <td>0.554700</td>\n",
       "      <td>0.100000</td>\n",
       "      <td>0.000000</td>\n",
       "      <td>0</td>\n",
       "      <td>0</td>\n",
       "      <td>1</td>\n",
       "      <td>0</td>\n",
       "    </tr>\n",
       "    <tr>\n",
       "      <th>3</th>\n",
       "      <td>2.236068</td>\n",
       "      <td>2.000000</td>\n",
       "      <td>0.282843</td>\n",
       "      <td>0.0</td>\n",
       "      <td>0.00</td>\n",
       "      <td>0.894427</td>\n",
       "      <td>0.141421</td>\n",
       "      <td>0.000000</td>\n",
       "      <td>0</td>\n",
       "      <td>0</td>\n",
       "      <td>0</td>\n",
       "      <td>1</td>\n",
       "    </tr>\n",
       "    <tr>\n",
       "      <th>4</th>\n",
       "      <td>15.716234</td>\n",
       "      <td>11.224972</td>\n",
       "      <td>1.135782</td>\n",
       "      <td>2.0</td>\n",
       "      <td>925.71</td>\n",
       "      <td>0.714228</td>\n",
       "      <td>0.101183</td>\n",
       "      <td>0.567891</td>\n",
       "      <td>1</td>\n",
       "      <td>0</td>\n",
       "      <td>0</td>\n",
       "      <td>0</td>\n",
       "    </tr>\n",
       "  </tbody>\n",
       "</table>\n",
       "</div>"
      ]
     },
     "metadata": {},
     "execution_count": 39
    }
   ],
   "metadata": {}
  },
  {
   "cell_type": "code",
   "execution_count": 40,
   "source": [
    "#train['date'] = pd.to_numeric(pd.to_datetime(train['date'], format = '%d-%m-%Y', errors = 'coerce'))\r\n",
    "#train.head()"
   ],
   "outputs": [],
   "metadata": {}
  },
  {
   "cell_type": "code",
   "execution_count": 41,
   "source": [
    "from sklearn.preprocessing import StandardScaler\r\n",
    "scaler = StandardScaler()\r\n",
    "col_names=['impressions', 'clicks', 'cost', 'conversions', 'CTR','CPC','CPA']\r\n",
    "train_scaled=train\r\n",
    "train_scaled[col_names]=pd.DataFrame(scaler.fit_transform(train[col_names]))\r\n",
    "train_scaled.head()"
   ],
   "outputs": [
    {
     "output_type": "execute_result",
     "data": {
      "text/plain": [
       "   impressions    clicks      cost  conversions  revenue       CTR       CPC  \\\n",
       "0    -0.220058 -0.408371 -0.530039    -0.548181     0.00 -0.470910 -0.419239   \n",
       "1    -0.915451 -1.038446 -0.852217    -0.548181     0.00 -2.557088 -1.332774   \n",
       "2    -0.450744 -0.523992 -0.624402    -0.548181     0.00 -0.242681 -0.541630   \n",
       "3    -0.694995 -0.523992 -0.530039    -0.548181     0.00  1.174781 -0.213927   \n",
       "4     1.709227  1.848920  0.441520     1.994466   925.71  0.422925 -0.532267   \n",
       "\n",
       "        CPA  adgroup_adgroup 1  adgroup_adgroup 2  adgroup_adgroup 3  \\\n",
       "0 -0.508196                  1                  0                  0   \n",
       "1 -0.508196                  0                  1                  0   \n",
       "2 -0.508196                  0                  0                  1   \n",
       "3 -0.508196                  0                  0                  0   \n",
       "4  0.632939                  1                  0                  0   \n",
       "\n",
       "   adgroup_adgroup 4  \n",
       "0                  0  \n",
       "1                  0  \n",
       "2                  0  \n",
       "3                  1  \n",
       "4                  0  "
      ],
      "text/html": [
       "<div>\n",
       "<style scoped>\n",
       "    .dataframe tbody tr th:only-of-type {\n",
       "        vertical-align: middle;\n",
       "    }\n",
       "\n",
       "    .dataframe tbody tr th {\n",
       "        vertical-align: top;\n",
       "    }\n",
       "\n",
       "    .dataframe thead th {\n",
       "        text-align: right;\n",
       "    }\n",
       "</style>\n",
       "<table border=\"1\" class=\"dataframe\">\n",
       "  <thead>\n",
       "    <tr style=\"text-align: right;\">\n",
       "      <th></th>\n",
       "      <th>impressions</th>\n",
       "      <th>clicks</th>\n",
       "      <th>cost</th>\n",
       "      <th>conversions</th>\n",
       "      <th>revenue</th>\n",
       "      <th>CTR</th>\n",
       "      <th>CPC</th>\n",
       "      <th>CPA</th>\n",
       "      <th>adgroup_adgroup 1</th>\n",
       "      <th>adgroup_adgroup 2</th>\n",
       "      <th>adgroup_adgroup 3</th>\n",
       "      <th>adgroup_adgroup 4</th>\n",
       "    </tr>\n",
       "  </thead>\n",
       "  <tbody>\n",
       "    <tr>\n",
       "      <th>0</th>\n",
       "      <td>-0.220058</td>\n",
       "      <td>-0.408371</td>\n",
       "      <td>-0.530039</td>\n",
       "      <td>-0.548181</td>\n",
       "      <td>0.00</td>\n",
       "      <td>-0.470910</td>\n",
       "      <td>-0.419239</td>\n",
       "      <td>-0.508196</td>\n",
       "      <td>1</td>\n",
       "      <td>0</td>\n",
       "      <td>0</td>\n",
       "      <td>0</td>\n",
       "    </tr>\n",
       "    <tr>\n",
       "      <th>1</th>\n",
       "      <td>-0.915451</td>\n",
       "      <td>-1.038446</td>\n",
       "      <td>-0.852217</td>\n",
       "      <td>-0.548181</td>\n",
       "      <td>0.00</td>\n",
       "      <td>-2.557088</td>\n",
       "      <td>-1.332774</td>\n",
       "      <td>-0.508196</td>\n",
       "      <td>0</td>\n",
       "      <td>1</td>\n",
       "      <td>0</td>\n",
       "      <td>0</td>\n",
       "    </tr>\n",
       "    <tr>\n",
       "      <th>2</th>\n",
       "      <td>-0.450744</td>\n",
       "      <td>-0.523992</td>\n",
       "      <td>-0.624402</td>\n",
       "      <td>-0.548181</td>\n",
       "      <td>0.00</td>\n",
       "      <td>-0.242681</td>\n",
       "      <td>-0.541630</td>\n",
       "      <td>-0.508196</td>\n",
       "      <td>0</td>\n",
       "      <td>0</td>\n",
       "      <td>1</td>\n",
       "      <td>0</td>\n",
       "    </tr>\n",
       "    <tr>\n",
       "      <th>3</th>\n",
       "      <td>-0.694995</td>\n",
       "      <td>-0.523992</td>\n",
       "      <td>-0.530039</td>\n",
       "      <td>-0.548181</td>\n",
       "      <td>0.00</td>\n",
       "      <td>1.174781</td>\n",
       "      <td>-0.213927</td>\n",
       "      <td>-0.508196</td>\n",
       "      <td>0</td>\n",
       "      <td>0</td>\n",
       "      <td>0</td>\n",
       "      <td>1</td>\n",
       "    </tr>\n",
       "    <tr>\n",
       "      <th>4</th>\n",
       "      <td>1.709227</td>\n",
       "      <td>1.848920</td>\n",
       "      <td>0.441520</td>\n",
       "      <td>1.994466</td>\n",
       "      <td>925.71</td>\n",
       "      <td>0.422925</td>\n",
       "      <td>-0.532267</td>\n",
       "      <td>0.632939</td>\n",
       "      <td>1</td>\n",
       "      <td>0</td>\n",
       "      <td>0</td>\n",
       "      <td>0</td>\n",
       "    </tr>\n",
       "  </tbody>\n",
       "</table>\n",
       "</div>"
      ]
     },
     "metadata": {},
     "execution_count": 41
    }
   ],
   "metadata": {}
  },
  {
   "cell_type": "code",
   "execution_count": 42,
   "source": [
    "test_scaled=test\r\n",
    "test_scaled[col_names]=pd.DataFrame(scaler.fit_transform(test[col_names]))\r\n",
    "test_scaled.head()"
   ],
   "outputs": [
    {
     "output_type": "execute_result",
     "data": {
      "text/plain": [
       "       cost  impressions    clicks  conversions       CTR       CPC       CPA  \\\n",
       "0  0.730585     0.896571  0.807239     0.684213  0.079172  0.191862  1.537918   \n",
       "1 -0.124604    -0.299159 -0.175051    -0.637589  0.481745  0.455112 -0.619341   \n",
       "2 -0.586649    -0.764283 -0.656223    -0.637589  0.623760  0.714464 -0.619341   \n",
       "3 -0.889304    -0.920033 -0.859591    -0.637589  0.357875 -0.034571 -0.619341   \n",
       "4 -0.889304    -0.859799 -0.859591    -0.637589 -0.153319 -0.034571 -0.619341   \n",
       "\n",
       "   adgroup_adgroup 1  adgroup_adgroup 2  adgroup_adgroup 3  adgroup_adgroup 4  \n",
       "0                  1                  0                  0                  0  \n",
       "1                  0                  0                  1                  0  \n",
       "2                  0                  0                  0                  1  \n",
       "3                  0                  1                  0                  0  \n",
       "4                  0                  1                  0                  0  "
      ],
      "text/html": [
       "<div>\n",
       "<style scoped>\n",
       "    .dataframe tbody tr th:only-of-type {\n",
       "        vertical-align: middle;\n",
       "    }\n",
       "\n",
       "    .dataframe tbody tr th {\n",
       "        vertical-align: top;\n",
       "    }\n",
       "\n",
       "    .dataframe thead th {\n",
       "        text-align: right;\n",
       "    }\n",
       "</style>\n",
       "<table border=\"1\" class=\"dataframe\">\n",
       "  <thead>\n",
       "    <tr style=\"text-align: right;\">\n",
       "      <th></th>\n",
       "      <th>cost</th>\n",
       "      <th>impressions</th>\n",
       "      <th>clicks</th>\n",
       "      <th>conversions</th>\n",
       "      <th>CTR</th>\n",
       "      <th>CPC</th>\n",
       "      <th>CPA</th>\n",
       "      <th>adgroup_adgroup 1</th>\n",
       "      <th>adgroup_adgroup 2</th>\n",
       "      <th>adgroup_adgroup 3</th>\n",
       "      <th>adgroup_adgroup 4</th>\n",
       "    </tr>\n",
       "  </thead>\n",
       "  <tbody>\n",
       "    <tr>\n",
       "      <th>0</th>\n",
       "      <td>0.730585</td>\n",
       "      <td>0.896571</td>\n",
       "      <td>0.807239</td>\n",
       "      <td>0.684213</td>\n",
       "      <td>0.079172</td>\n",
       "      <td>0.191862</td>\n",
       "      <td>1.537918</td>\n",
       "      <td>1</td>\n",
       "      <td>0</td>\n",
       "      <td>0</td>\n",
       "      <td>0</td>\n",
       "    </tr>\n",
       "    <tr>\n",
       "      <th>1</th>\n",
       "      <td>-0.124604</td>\n",
       "      <td>-0.299159</td>\n",
       "      <td>-0.175051</td>\n",
       "      <td>-0.637589</td>\n",
       "      <td>0.481745</td>\n",
       "      <td>0.455112</td>\n",
       "      <td>-0.619341</td>\n",
       "      <td>0</td>\n",
       "      <td>0</td>\n",
       "      <td>1</td>\n",
       "      <td>0</td>\n",
       "    </tr>\n",
       "    <tr>\n",
       "      <th>2</th>\n",
       "      <td>-0.586649</td>\n",
       "      <td>-0.764283</td>\n",
       "      <td>-0.656223</td>\n",
       "      <td>-0.637589</td>\n",
       "      <td>0.623760</td>\n",
       "      <td>0.714464</td>\n",
       "      <td>-0.619341</td>\n",
       "      <td>0</td>\n",
       "      <td>0</td>\n",
       "      <td>0</td>\n",
       "      <td>1</td>\n",
       "    </tr>\n",
       "    <tr>\n",
       "      <th>3</th>\n",
       "      <td>-0.889304</td>\n",
       "      <td>-0.920033</td>\n",
       "      <td>-0.859591</td>\n",
       "      <td>-0.637589</td>\n",
       "      <td>0.357875</td>\n",
       "      <td>-0.034571</td>\n",
       "      <td>-0.619341</td>\n",
       "      <td>0</td>\n",
       "      <td>1</td>\n",
       "      <td>0</td>\n",
       "      <td>0</td>\n",
       "    </tr>\n",
       "    <tr>\n",
       "      <th>4</th>\n",
       "      <td>-0.889304</td>\n",
       "      <td>-0.859799</td>\n",
       "      <td>-0.859591</td>\n",
       "      <td>-0.637589</td>\n",
       "      <td>-0.153319</td>\n",
       "      <td>-0.034571</td>\n",
       "      <td>-0.619341</td>\n",
       "      <td>0</td>\n",
       "      <td>1</td>\n",
       "      <td>0</td>\n",
       "      <td>0</td>\n",
       "    </tr>\n",
       "  </tbody>\n",
       "</table>\n",
       "</div>"
      ]
     },
     "metadata": {},
     "execution_count": 42
    }
   ],
   "metadata": {}
  },
  {
   "cell_type": "code",
   "execution_count": 43,
   "source": [
    "train_scaled.isna().sum()"
   ],
   "outputs": [
    {
     "output_type": "execute_result",
     "data": {
      "text/plain": [
       "impressions          256\n",
       "clicks               256\n",
       "cost                 256\n",
       "conversions          256\n",
       "revenue                0\n",
       "CTR                  256\n",
       "CPC                  256\n",
       "CPA                  256\n",
       "adgroup_adgroup 1      0\n",
       "adgroup_adgroup 2      0\n",
       "adgroup_adgroup 3      0\n",
       "adgroup_adgroup 4      0\n",
       "dtype: int64"
      ]
     },
     "metadata": {},
     "execution_count": 43
    }
   ],
   "metadata": {}
  },
  {
   "cell_type": "code",
   "execution_count": 44,
   "source": [
    "train_scaled = train_scaled.fillna(0)\r\n",
    "test_scaled = test_scaled.fillna(0)\r\n"
   ],
   "outputs": [],
   "metadata": {}
  },
  {
   "cell_type": "code",
   "execution_count": 45,
   "source": [
    "train_scaled.isna().sum(),test_scaled.isna().sum()"
   ],
   "outputs": [
    {
     "output_type": "execute_result",
     "data": {
      "text/plain": [
       "(impressions          0\n",
       " clicks               0\n",
       " cost                 0\n",
       " conversions          0\n",
       " revenue              0\n",
       " CTR                  0\n",
       " CPC                  0\n",
       " CPA                  0\n",
       " adgroup_adgroup 1    0\n",
       " adgroup_adgroup 2    0\n",
       " adgroup_adgroup 3    0\n",
       " adgroup_adgroup 4    0\n",
       " dtype: int64,\n",
       " cost                 0\n",
       " impressions          0\n",
       " clicks               0\n",
       " conversions          0\n",
       " CTR                  0\n",
       " CPC                  0\n",
       " CPA                  0\n",
       " adgroup_adgroup 1    0\n",
       " adgroup_adgroup 2    0\n",
       " adgroup_adgroup 3    0\n",
       " adgroup_adgroup 4    0\n",
       " dtype: int64)"
      ]
     },
     "metadata": {},
     "execution_count": 45
    }
   ],
   "metadata": {}
  },
  {
   "cell_type": "code",
   "execution_count": 46,
   "source": [
    "'''\r\n",
    "#to round data\r\n",
    "e_metric= ['impressions', 'clicks', 'cost', 'conversions', 'revenue', 'CTR', 'CPC']\r\n",
    "train_scaled[e_metric]=train_scaled[e_metric].round(2)\r\n",
    "train_scaled.head()\r\n",
    "'''"
   ],
   "outputs": [
    {
     "output_type": "execute_result",
     "data": {
      "text/plain": [
       "\"\\n#to round data\\ne_metric= ['impressions', 'clicks', 'cost', 'conversions', 'revenue', 'CTR', 'CPC']\\ntrain_scaled[e_metric]=train_scaled[e_metric].round(2)\\ntrain_scaled.head()\\n\""
      ]
     },
     "metadata": {},
     "execution_count": 46
    }
   ],
   "metadata": {}
  },
  {
   "cell_type": "markdown",
   "source": [
    "Split Data"
   ],
   "metadata": {}
  },
  {
   "cell_type": "code",
   "execution_count": 47,
   "source": [
    "train_scaled.shape, test_scaled.shape"
   ],
   "outputs": [
    {
     "output_type": "execute_result",
     "data": {
      "text/plain": [
       "((4315, 12), (318, 11))"
      ]
     },
     "metadata": {},
     "execution_count": 47
    }
   ],
   "metadata": {}
  },
  {
   "cell_type": "code",
   "execution_count": 48,
   "source": [
    "X = train_scaled.drop('revenue', axis=1).values\r\n",
    "y = train_scaled['revenue'].values"
   ],
   "outputs": [],
   "metadata": {}
  },
  {
   "cell_type": "code",
   "execution_count": 49,
   "source": [
    "X_train, X_test, y_train, y_test = train_test_split(X, y, test_size=0.2, random_state=0)"
   ],
   "outputs": [],
   "metadata": {}
  },
  {
   "cell_type": "code",
   "execution_count": 50,
   "source": [
    "X_train.shape, X_test.shape, y_train.shape, y_test.shape"
   ],
   "outputs": [
    {
     "output_type": "execute_result",
     "data": {
      "text/plain": [
       "((3452, 11), (863, 11), (3452,), (863,))"
      ]
     },
     "metadata": {},
     "execution_count": 50
    }
   ],
   "metadata": {}
  },
  {
   "cell_type": "code",
   "execution_count": 51,
   "source": [
    "'''\r\n",
    "#label encoder \r\n",
    "from sklearn.preprocessing import LabelEncoder\r\n",
    "le=LabelEncoder()\r\n",
    "le.fit(y_train)\r\n",
    "le.transform(y_train)\r\n",
    "'''"
   ],
   "outputs": [
    {
     "output_type": "execute_result",
     "data": {
      "text/plain": [
       "'\\n#label encoder \\nfrom sklearn.preprocessing import LabelEncoder\\nle=LabelEncoder()\\nle.fit(y_train)\\nle.transform(y_train)\\n'"
      ]
     },
     "metadata": {},
     "execution_count": 51
    }
   ],
   "metadata": {}
  },
  {
   "cell_type": "markdown",
   "source": [
    "## Apply Machine Learning\r\n"
   ],
   "metadata": {}
  },
  {
   "cell_type": "code",
   "execution_count": 52,
   "source": [
    "linreg= LinearRegression()\r\n",
    "lasso= Lasso()\r\n",
    "ridge=Ridge()\r\n",
    "DTR=DecisionTreeRegressor()\r\n",
    "RFR=RandomForestRegressor()\r\n",
    "GBR=GradientBoostingRegressor(learning_rate=0.1,n_estimators=50)\r\n",
    "XGB=XGBRegressor(learning_rate=0.05,n_estimators=50,enable_categorical=True)\r\n",
    "CBR= CatBoostRegressor(learning_rate=0.05,n_estimators=50)"
   ],
   "outputs": [],
   "metadata": {}
  },
  {
   "cell_type": "code",
   "execution_count": 53,
   "source": [
    "def build_model(model):\r\n",
    "    model.fit(X_train,y_train)\r\n",
    "    print(model)\r\n",
    "    pred = model.predict(X_train)\r\n",
    "    print(\"Train set R2:\", r2_score(y_train, model.predict(X_train)))\r\n",
    "    print(\"Test set R2:\", r2_score(y_test, model.predict(X_test)))\r\n",
    "    print(\"Train set RMSE:\", np.sqrt(mean_squared_error(y_train, model.predict(X_train),squared=False)))\r\n",
    "    print(\"Test set RMSE:\", np.sqrt(mean_squared_error(y_test, model.predict(X_test),squared=False)))\r\n",
    "    pred = model.predict(test_scaled)\r\n",
    "    return pd.DataFrame(pred)\r\n"
   ],
   "outputs": [],
   "metadata": {}
  },
  {
   "cell_type": "code",
   "execution_count": 54,
   "source": [
    "X_train.shape, y_train.shape, X_test.shape, y_test.shape"
   ],
   "outputs": [
    {
     "output_type": "execute_result",
     "data": {
      "text/plain": [
       "((3452, 11), (3452,), (863, 11), (863,))"
      ]
     },
     "metadata": {},
     "execution_count": 54
    }
   ],
   "metadata": {}
  },
  {
   "cell_type": "code",
   "execution_count": 55,
   "source": [
    "build_model(linreg)"
   ],
   "outputs": [
    {
     "output_type": "stream",
     "name": "stdout",
     "text": [
      "LinearRegression()\n",
      "Train set R2: 0.09323881320962935\n",
      "Test set R2: 0.062337358657815645\n",
      "Train set RMSE: 17.585837985628945\n",
      "Test set RMSE: 18.81458524547156\n"
     ]
    },
    {
     "output_type": "execute_result",
     "data": {
      "text/plain": [
       "              0\n",
       "0    251.669076\n",
       "1    130.835452\n",
       "2    -13.166722\n",
       "3    -19.293302\n",
       "4     -0.066860\n",
       "..          ...\n",
       "313  -48.467624\n",
       "314  190.337984\n",
       "315  172.045966\n",
       "316  161.039543\n",
       "317  249.090074\n",
       "\n",
       "[318 rows x 1 columns]"
      ],
      "text/html": [
       "<div>\n",
       "<style scoped>\n",
       "    .dataframe tbody tr th:only-of-type {\n",
       "        vertical-align: middle;\n",
       "    }\n",
       "\n",
       "    .dataframe tbody tr th {\n",
       "        vertical-align: top;\n",
       "    }\n",
       "\n",
       "    .dataframe thead th {\n",
       "        text-align: right;\n",
       "    }\n",
       "</style>\n",
       "<table border=\"1\" class=\"dataframe\">\n",
       "  <thead>\n",
       "    <tr style=\"text-align: right;\">\n",
       "      <th></th>\n",
       "      <th>0</th>\n",
       "    </tr>\n",
       "  </thead>\n",
       "  <tbody>\n",
       "    <tr>\n",
       "      <th>0</th>\n",
       "      <td>251.669076</td>\n",
       "    </tr>\n",
       "    <tr>\n",
       "      <th>1</th>\n",
       "      <td>130.835452</td>\n",
       "    </tr>\n",
       "    <tr>\n",
       "      <th>2</th>\n",
       "      <td>-13.166722</td>\n",
       "    </tr>\n",
       "    <tr>\n",
       "      <th>3</th>\n",
       "      <td>-19.293302</td>\n",
       "    </tr>\n",
       "    <tr>\n",
       "      <th>4</th>\n",
       "      <td>-0.066860</td>\n",
       "    </tr>\n",
       "    <tr>\n",
       "      <th>...</th>\n",
       "      <td>...</td>\n",
       "    </tr>\n",
       "    <tr>\n",
       "      <th>313</th>\n",
       "      <td>-48.467624</td>\n",
       "    </tr>\n",
       "    <tr>\n",
       "      <th>314</th>\n",
       "      <td>190.337984</td>\n",
       "    </tr>\n",
       "    <tr>\n",
       "      <th>315</th>\n",
       "      <td>172.045966</td>\n",
       "    </tr>\n",
       "    <tr>\n",
       "      <th>316</th>\n",
       "      <td>161.039543</td>\n",
       "    </tr>\n",
       "    <tr>\n",
       "      <th>317</th>\n",
       "      <td>249.090074</td>\n",
       "    </tr>\n",
       "  </tbody>\n",
       "</table>\n",
       "<p>318 rows × 1 columns</p>\n",
       "</div>"
      ]
     },
     "metadata": {},
     "execution_count": 55
    }
   ],
   "metadata": {}
  },
  {
   "cell_type": "code",
   "execution_count": 56,
   "source": [
    "build_model(lasso)"
   ],
   "outputs": [
    {
     "output_type": "stream",
     "name": "stdout",
     "text": [
      "Lasso()\n",
      "Train set R2: 0.09096643403642135\n",
      "Test set R2: 0.05475922657717158\n",
      "Train set RMSE: 17.596845346988125\n",
      "Test set RMSE: 18.852485155429633\n"
     ]
    },
    {
     "output_type": "execute_result",
     "data": {
      "text/plain": [
       "              0\n",
       "0    220.655230\n",
       "1    158.065324\n",
       "2     18.546360\n",
       "3     -2.138613\n",
       "4     -1.624064\n",
       "..          ...\n",
       "313    1.486380\n",
       "314  157.431995\n",
       "315  171.483417\n",
       "316  167.413197\n",
       "317  228.432159\n",
       "\n",
       "[318 rows x 1 columns]"
      ],
      "text/html": [
       "<div>\n",
       "<style scoped>\n",
       "    .dataframe tbody tr th:only-of-type {\n",
       "        vertical-align: middle;\n",
       "    }\n",
       "\n",
       "    .dataframe tbody tr th {\n",
       "        vertical-align: top;\n",
       "    }\n",
       "\n",
       "    .dataframe thead th {\n",
       "        text-align: right;\n",
       "    }\n",
       "</style>\n",
       "<table border=\"1\" class=\"dataframe\">\n",
       "  <thead>\n",
       "    <tr style=\"text-align: right;\">\n",
       "      <th></th>\n",
       "      <th>0</th>\n",
       "    </tr>\n",
       "  </thead>\n",
       "  <tbody>\n",
       "    <tr>\n",
       "      <th>0</th>\n",
       "      <td>220.655230</td>\n",
       "    </tr>\n",
       "    <tr>\n",
       "      <th>1</th>\n",
       "      <td>158.065324</td>\n",
       "    </tr>\n",
       "    <tr>\n",
       "      <th>2</th>\n",
       "      <td>18.546360</td>\n",
       "    </tr>\n",
       "    <tr>\n",
       "      <th>3</th>\n",
       "      <td>-2.138613</td>\n",
       "    </tr>\n",
       "    <tr>\n",
       "      <th>4</th>\n",
       "      <td>-1.624064</td>\n",
       "    </tr>\n",
       "    <tr>\n",
       "      <th>...</th>\n",
       "      <td>...</td>\n",
       "    </tr>\n",
       "    <tr>\n",
       "      <th>313</th>\n",
       "      <td>1.486380</td>\n",
       "    </tr>\n",
       "    <tr>\n",
       "      <th>314</th>\n",
       "      <td>157.431995</td>\n",
       "    </tr>\n",
       "    <tr>\n",
       "      <th>315</th>\n",
       "      <td>171.483417</td>\n",
       "    </tr>\n",
       "    <tr>\n",
       "      <th>316</th>\n",
       "      <td>167.413197</td>\n",
       "    </tr>\n",
       "    <tr>\n",
       "      <th>317</th>\n",
       "      <td>228.432159</td>\n",
       "    </tr>\n",
       "  </tbody>\n",
       "</table>\n",
       "<p>318 rows × 1 columns</p>\n",
       "</div>"
      ]
     },
     "metadata": {},
     "execution_count": 56
    }
   ],
   "metadata": {}
  },
  {
   "cell_type": "code",
   "execution_count": 57,
   "source": [
    "build_model(ridge)"
   ],
   "outputs": [
    {
     "output_type": "stream",
     "name": "stdout",
     "text": [
      "Ridge()\n",
      "Train set R2: 0.09323284088994255\n",
      "Test set R2: 0.06206520130054338\n",
      "Train set RMSE: 17.58586694253307\n",
      "Test set RMSE: 18.815950334131422\n"
     ]
    },
    {
     "output_type": "execute_result",
     "data": {
      "text/plain": [
       "              0\n",
       "0    250.150260\n",
       "1    132.471857\n",
       "2    -11.301826\n",
       "3    -18.421330\n",
       "4     -0.189023\n",
       "..          ...\n",
       "313  -45.875694\n",
       "314  188.767375\n",
       "315  172.121333\n",
       "316  161.698917\n",
       "317  248.216596\n",
       "\n",
       "[318 rows x 1 columns]"
      ],
      "text/html": [
       "<div>\n",
       "<style scoped>\n",
       "    .dataframe tbody tr th:only-of-type {\n",
       "        vertical-align: middle;\n",
       "    }\n",
       "\n",
       "    .dataframe tbody tr th {\n",
       "        vertical-align: top;\n",
       "    }\n",
       "\n",
       "    .dataframe thead th {\n",
       "        text-align: right;\n",
       "    }\n",
       "</style>\n",
       "<table border=\"1\" class=\"dataframe\">\n",
       "  <thead>\n",
       "    <tr style=\"text-align: right;\">\n",
       "      <th></th>\n",
       "      <th>0</th>\n",
       "    </tr>\n",
       "  </thead>\n",
       "  <tbody>\n",
       "    <tr>\n",
       "      <th>0</th>\n",
       "      <td>250.150260</td>\n",
       "    </tr>\n",
       "    <tr>\n",
       "      <th>1</th>\n",
       "      <td>132.471857</td>\n",
       "    </tr>\n",
       "    <tr>\n",
       "      <th>2</th>\n",
       "      <td>-11.301826</td>\n",
       "    </tr>\n",
       "    <tr>\n",
       "      <th>3</th>\n",
       "      <td>-18.421330</td>\n",
       "    </tr>\n",
       "    <tr>\n",
       "      <th>4</th>\n",
       "      <td>-0.189023</td>\n",
       "    </tr>\n",
       "    <tr>\n",
       "      <th>...</th>\n",
       "      <td>...</td>\n",
       "    </tr>\n",
       "    <tr>\n",
       "      <th>313</th>\n",
       "      <td>-45.875694</td>\n",
       "    </tr>\n",
       "    <tr>\n",
       "      <th>314</th>\n",
       "      <td>188.767375</td>\n",
       "    </tr>\n",
       "    <tr>\n",
       "      <th>315</th>\n",
       "      <td>172.121333</td>\n",
       "    </tr>\n",
       "    <tr>\n",
       "      <th>316</th>\n",
       "      <td>161.698917</td>\n",
       "    </tr>\n",
       "    <tr>\n",
       "      <th>317</th>\n",
       "      <td>248.216596</td>\n",
       "    </tr>\n",
       "  </tbody>\n",
       "</table>\n",
       "<p>318 rows × 1 columns</p>\n",
       "</div>"
      ]
     },
     "metadata": {},
     "execution_count": 57
    }
   ],
   "metadata": {}
  },
  {
   "cell_type": "code",
   "execution_count": 58,
   "source": [
    "build_model(DTR)"
   ],
   "outputs": [
    {
     "output_type": "stream",
     "name": "stdout",
     "text": [
      "DecisionTreeRegressor()\n",
      "Train set R2: 0.8807366194432894\n",
      "Test set R2: -0.6641980879186165\n",
      "Train set RMSE: 10.590503694931266\n",
      "Test set RMSE: 21.71622088740066\n"
     ]
    },
    {
     "output_type": "execute_result",
     "data": {
      "text/plain": [
       "              0\n",
       "0      0.000000\n",
       "1      0.000000\n",
       "2      0.000000\n",
       "3      0.000000\n",
       "4      0.000000\n",
       "..          ...\n",
       "313   94.966667\n",
       "314  342.000000\n",
       "315    0.000000\n",
       "316  149.290000\n",
       "317   40.000000\n",
       "\n",
       "[318 rows x 1 columns]"
      ],
      "text/html": [
       "<div>\n",
       "<style scoped>\n",
       "    .dataframe tbody tr th:only-of-type {\n",
       "        vertical-align: middle;\n",
       "    }\n",
       "\n",
       "    .dataframe tbody tr th {\n",
       "        vertical-align: top;\n",
       "    }\n",
       "\n",
       "    .dataframe thead th {\n",
       "        text-align: right;\n",
       "    }\n",
       "</style>\n",
       "<table border=\"1\" class=\"dataframe\">\n",
       "  <thead>\n",
       "    <tr style=\"text-align: right;\">\n",
       "      <th></th>\n",
       "      <th>0</th>\n",
       "    </tr>\n",
       "  </thead>\n",
       "  <tbody>\n",
       "    <tr>\n",
       "      <th>0</th>\n",
       "      <td>0.000000</td>\n",
       "    </tr>\n",
       "    <tr>\n",
       "      <th>1</th>\n",
       "      <td>0.000000</td>\n",
       "    </tr>\n",
       "    <tr>\n",
       "      <th>2</th>\n",
       "      <td>0.000000</td>\n",
       "    </tr>\n",
       "    <tr>\n",
       "      <th>3</th>\n",
       "      <td>0.000000</td>\n",
       "    </tr>\n",
       "    <tr>\n",
       "      <th>4</th>\n",
       "      <td>0.000000</td>\n",
       "    </tr>\n",
       "    <tr>\n",
       "      <th>...</th>\n",
       "      <td>...</td>\n",
       "    </tr>\n",
       "    <tr>\n",
       "      <th>313</th>\n",
       "      <td>94.966667</td>\n",
       "    </tr>\n",
       "    <tr>\n",
       "      <th>314</th>\n",
       "      <td>342.000000</td>\n",
       "    </tr>\n",
       "    <tr>\n",
       "      <th>315</th>\n",
       "      <td>0.000000</td>\n",
       "    </tr>\n",
       "    <tr>\n",
       "      <th>316</th>\n",
       "      <td>149.290000</td>\n",
       "    </tr>\n",
       "    <tr>\n",
       "      <th>317</th>\n",
       "      <td>40.000000</td>\n",
       "    </tr>\n",
       "  </tbody>\n",
       "</table>\n",
       "<p>318 rows × 1 columns</p>\n",
       "</div>"
      ]
     },
     "metadata": {},
     "execution_count": 58
    }
   ],
   "metadata": {}
  },
  {
   "cell_type": "code",
   "execution_count": 59,
   "source": [
    "build_model(RFR)\r\n"
   ],
   "outputs": [
    {
     "output_type": "stream",
     "name": "stdout",
     "text": [
      "RandomForestRegressor()\n",
      "Train set R2: 0.773271130119425\n",
      "Test set R2: -0.01818595845974791\n",
      "Train set RMSE: 12.435594240407868\n",
      "Test set RMSE: 19.206125910049046\n"
     ]
    },
    {
     "output_type": "execute_result",
     "data": {
      "text/plain": [
       "              0\n",
       "0    459.434500\n",
       "1    214.017600\n",
       "2     57.615800\n",
       "3      7.415086\n",
       "4      7.072049\n",
       "..          ...\n",
       "313   85.789235\n",
       "314  224.587513\n",
       "315  246.544400\n",
       "316  576.530080\n",
       "317  303.756514\n",
       "\n",
       "[318 rows x 1 columns]"
      ],
      "text/html": [
       "<div>\n",
       "<style scoped>\n",
       "    .dataframe tbody tr th:only-of-type {\n",
       "        vertical-align: middle;\n",
       "    }\n",
       "\n",
       "    .dataframe tbody tr th {\n",
       "        vertical-align: top;\n",
       "    }\n",
       "\n",
       "    .dataframe thead th {\n",
       "        text-align: right;\n",
       "    }\n",
       "</style>\n",
       "<table border=\"1\" class=\"dataframe\">\n",
       "  <thead>\n",
       "    <tr style=\"text-align: right;\">\n",
       "      <th></th>\n",
       "      <th>0</th>\n",
       "    </tr>\n",
       "  </thead>\n",
       "  <tbody>\n",
       "    <tr>\n",
       "      <th>0</th>\n",
       "      <td>459.434500</td>\n",
       "    </tr>\n",
       "    <tr>\n",
       "      <th>1</th>\n",
       "      <td>214.017600</td>\n",
       "    </tr>\n",
       "    <tr>\n",
       "      <th>2</th>\n",
       "      <td>57.615800</td>\n",
       "    </tr>\n",
       "    <tr>\n",
       "      <th>3</th>\n",
       "      <td>7.415086</td>\n",
       "    </tr>\n",
       "    <tr>\n",
       "      <th>4</th>\n",
       "      <td>7.072049</td>\n",
       "    </tr>\n",
       "    <tr>\n",
       "      <th>...</th>\n",
       "      <td>...</td>\n",
       "    </tr>\n",
       "    <tr>\n",
       "      <th>313</th>\n",
       "      <td>85.789235</td>\n",
       "    </tr>\n",
       "    <tr>\n",
       "      <th>314</th>\n",
       "      <td>224.587513</td>\n",
       "    </tr>\n",
       "    <tr>\n",
       "      <th>315</th>\n",
       "      <td>246.544400</td>\n",
       "    </tr>\n",
       "    <tr>\n",
       "      <th>316</th>\n",
       "      <td>576.530080</td>\n",
       "    </tr>\n",
       "    <tr>\n",
       "      <th>317</th>\n",
       "      <td>303.756514</td>\n",
       "    </tr>\n",
       "  </tbody>\n",
       "</table>\n",
       "<p>318 rows × 1 columns</p>\n",
       "</div>"
      ]
     },
     "metadata": {},
     "execution_count": 59
    }
   ],
   "metadata": {}
  },
  {
   "cell_type": "code",
   "execution_count": 60,
   "source": [
    "pred=build_model(GBR)"
   ],
   "outputs": [
    {
     "output_type": "stream",
     "name": "stdout",
     "text": [
      "GradientBoostingRegressor(n_estimators=50)\n",
      "Train set R2: 0.22106683905150804\n",
      "Test set R2: 0.0684040671348487\n",
      "Train set RMSE: 16.930309034948305\n",
      "Test set RMSE: 18.784078379631282\n"
     ]
    }
   ],
   "metadata": {}
  },
  {
   "cell_type": "code",
   "execution_count": 61,
   "source": [
    "build_model(XGB)"
   ],
   "outputs": [
    {
     "output_type": "stream",
     "name": "stdout",
     "text": [
      "[08:12:02] WARNING: C:/Users/Administrator/workspace/xgboost-win64_release_1.4.0/src/learner.cc:573: \n",
      "Parameters: { \"enable_categorical\" } might not be used.\n",
      "\n",
      "  This may not be accurate due to some parameters are only used in language bindings but\n",
      "  passed down to XGBoost core.  Or some parameters are not used but slip through this\n",
      "  verification. Please open an issue if you find above cases.\n",
      "\n",
      "\n",
      "XGBRegressor(base_score=0.5, booster='gbtree', colsample_bylevel=1,\n",
      "             colsample_bynode=1, colsample_bytree=1, enable_categorical=True,\n",
      "             gamma=0, gpu_id=-1, importance_type='gain',\n",
      "             interaction_constraints='', learning_rate=0.05, max_delta_step=0,\n",
      "             max_depth=6, min_child_weight=1, missing=nan,\n",
      "             monotone_constraints='()', n_estimators=50, n_jobs=4,\n",
      "             num_parallel_tree=1, random_state=0, reg_alpha=0, reg_lambda=1,\n",
      "             scale_pos_weight=1, subsample=1, tree_method='exact',\n",
      "             validate_parameters=1, verbosity=None)\n",
      "Train set R2: 0.35174612844120834\n",
      "Test set R2: 0.04323986558335624\n",
      "Train set RMSE: 16.170599351915765\n",
      "Test set RMSE: 18.909661888129513\n"
     ]
    },
    {
     "output_type": "execute_result",
     "data": {
      "text/plain": [
       "              0\n",
       "0    315.922791\n",
       "1    146.725143\n",
       "2     12.660090\n",
       "3      9.503171\n",
       "4      6.375917\n",
       "..          ...\n",
       "313   15.319168\n",
       "314  131.974838\n",
       "315  139.546494\n",
       "316  181.823074\n",
       "317  180.206635\n",
       "\n",
       "[318 rows x 1 columns]"
      ],
      "text/html": [
       "<div>\n",
       "<style scoped>\n",
       "    .dataframe tbody tr th:only-of-type {\n",
       "        vertical-align: middle;\n",
       "    }\n",
       "\n",
       "    .dataframe tbody tr th {\n",
       "        vertical-align: top;\n",
       "    }\n",
       "\n",
       "    .dataframe thead th {\n",
       "        text-align: right;\n",
       "    }\n",
       "</style>\n",
       "<table border=\"1\" class=\"dataframe\">\n",
       "  <thead>\n",
       "    <tr style=\"text-align: right;\">\n",
       "      <th></th>\n",
       "      <th>0</th>\n",
       "    </tr>\n",
       "  </thead>\n",
       "  <tbody>\n",
       "    <tr>\n",
       "      <th>0</th>\n",
       "      <td>315.922791</td>\n",
       "    </tr>\n",
       "    <tr>\n",
       "      <th>1</th>\n",
       "      <td>146.725143</td>\n",
       "    </tr>\n",
       "    <tr>\n",
       "      <th>2</th>\n",
       "      <td>12.660090</td>\n",
       "    </tr>\n",
       "    <tr>\n",
       "      <th>3</th>\n",
       "      <td>9.503171</td>\n",
       "    </tr>\n",
       "    <tr>\n",
       "      <th>4</th>\n",
       "      <td>6.375917</td>\n",
       "    </tr>\n",
       "    <tr>\n",
       "      <th>...</th>\n",
       "      <td>...</td>\n",
       "    </tr>\n",
       "    <tr>\n",
       "      <th>313</th>\n",
       "      <td>15.319168</td>\n",
       "    </tr>\n",
       "    <tr>\n",
       "      <th>314</th>\n",
       "      <td>131.974838</td>\n",
       "    </tr>\n",
       "    <tr>\n",
       "      <th>315</th>\n",
       "      <td>139.546494</td>\n",
       "    </tr>\n",
       "    <tr>\n",
       "      <th>316</th>\n",
       "      <td>181.823074</td>\n",
       "    </tr>\n",
       "    <tr>\n",
       "      <th>317</th>\n",
       "      <td>180.206635</td>\n",
       "    </tr>\n",
       "  </tbody>\n",
       "</table>\n",
       "<p>318 rows × 1 columns</p>\n",
       "</div>"
      ]
     },
     "metadata": {},
     "execution_count": 61
    }
   ],
   "metadata": {}
  },
  {
   "cell_type": "code",
   "execution_count": 62,
   "source": [
    "build_model(CBR)"
   ],
   "outputs": [
    {
     "output_type": "stream",
     "name": "stdout",
     "text": [
      "0:\tlearn: 323.0848722\ttotal: 159ms\tremaining: 7.8s\n",
      "1:\tlearn: 321.6390441\ttotal: 174ms\tremaining: 4.18s\n",
      "2:\tlearn: 320.4693078\ttotal: 178ms\tremaining: 2.8s\n",
      "3:\tlearn: 319.2473699\ttotal: 184ms\tremaining: 2.11s\n",
      "4:\tlearn: 317.9646210\ttotal: 189ms\tremaining: 1.7s\n",
      "5:\tlearn: 316.7247448\ttotal: 195ms\tremaining: 1.43s\n",
      "6:\tlearn: 315.7179697\ttotal: 200ms\tremaining: 1.23s\n",
      "7:\tlearn: 314.7827819\ttotal: 205ms\tremaining: 1.07s\n",
      "8:\tlearn: 313.6369433\ttotal: 210ms\tremaining: 956ms\n",
      "9:\tlearn: 312.7293459\ttotal: 214ms\tremaining: 857ms\n",
      "10:\tlearn: 311.7392880\ttotal: 219ms\tremaining: 776ms\n",
      "11:\tlearn: 311.1988361\ttotal: 224ms\tremaining: 711ms\n",
      "12:\tlearn: 310.5914804\ttotal: 229ms\tremaining: 651ms\n",
      "13:\tlearn: 309.9545938\ttotal: 234ms\tremaining: 602ms\n",
      "14:\tlearn: 309.3878786\ttotal: 239ms\tremaining: 558ms\n",
      "15:\tlearn: 308.5814138\ttotal: 244ms\tremaining: 518ms\n",
      "16:\tlearn: 308.1310573\ttotal: 248ms\tremaining: 482ms\n",
      "17:\tlearn: 307.7287880\ttotal: 253ms\tremaining: 450ms\n",
      "18:\tlearn: 307.3277836\ttotal: 258ms\tremaining: 421ms\n",
      "19:\tlearn: 306.9645544\ttotal: 262ms\tremaining: 394ms\n",
      "20:\tlearn: 306.4580982\ttotal: 267ms\tremaining: 368ms\n",
      "21:\tlearn: 305.9820683\ttotal: 272ms\tremaining: 346ms\n",
      "22:\tlearn: 305.6854415\ttotal: 276ms\tremaining: 324ms\n",
      "23:\tlearn: 305.2526809\ttotal: 281ms\tremaining: 304ms\n",
      "24:\tlearn: 304.8465124\ttotal: 286ms\tremaining: 286ms\n",
      "25:\tlearn: 304.4354821\ttotal: 290ms\tremaining: 268ms\n",
      "26:\tlearn: 303.9222367\ttotal: 295ms\tremaining: 251ms\n",
      "27:\tlearn: 303.5864889\ttotal: 300ms\tremaining: 236ms\n",
      "28:\tlearn: 303.2345715\ttotal: 305ms\tremaining: 221ms\n",
      "29:\tlearn: 302.7777553\ttotal: 309ms\tremaining: 206ms\n",
      "30:\tlearn: 302.4321801\ttotal: 315ms\tremaining: 193ms\n",
      "31:\tlearn: 302.0419116\ttotal: 319ms\tremaining: 179ms\n",
      "32:\tlearn: 301.8446283\ttotal: 324ms\tremaining: 167ms\n",
      "33:\tlearn: 301.4996740\ttotal: 331ms\tremaining: 156ms\n",
      "34:\tlearn: 301.1585875\ttotal: 336ms\tremaining: 144ms\n",
      "35:\tlearn: 300.8719004\ttotal: 340ms\tremaining: 132ms\n",
      "36:\tlearn: 300.5949412\ttotal: 346ms\tremaining: 121ms\n",
      "37:\tlearn: 300.3771637\ttotal: 355ms\tremaining: 112ms\n",
      "38:\tlearn: 300.1586159\ttotal: 362ms\tremaining: 102ms\n",
      "39:\tlearn: 299.7221123\ttotal: 368ms\tremaining: 92ms\n",
      "40:\tlearn: 299.4472431\ttotal: 375ms\tremaining: 82.3ms\n",
      "41:\tlearn: 299.2674929\ttotal: 379ms\tremaining: 72.3ms\n",
      "42:\tlearn: 299.0198233\ttotal: 384ms\tremaining: 62.5ms\n",
      "43:\tlearn: 298.8184570\ttotal: 390ms\tremaining: 53.2ms\n",
      "44:\tlearn: 298.5950423\ttotal: 395ms\tremaining: 43.8ms\n",
      "45:\tlearn: 298.4050074\ttotal: 399ms\tremaining: 34.7ms\n",
      "46:\tlearn: 298.1921846\ttotal: 406ms\tremaining: 25.9ms\n",
      "47:\tlearn: 297.9499359\ttotal: 410ms\tremaining: 17.1ms\n",
      "48:\tlearn: 297.8183091\ttotal: 415ms\tremaining: 8.47ms\n",
      "49:\tlearn: 297.5639948\ttotal: 421ms\tremaining: 0us\n",
      "<catboost.core.CatBoostRegressor object at 0x000001BDFF930FD0>\n",
      "Train set R2: 0.160537286017706\n",
      "Test set R2: 0.07228234175635573\n",
      "Train set RMSE: 17.250043317564092\n",
      "Test set RMSE: 18.764498050399297\n"
     ]
    },
    {
     "output_type": "execute_result",
     "data": {
      "text/plain": [
       "              0\n",
       "0    223.421606\n",
       "1    155.500126\n",
       "2     32.889593\n",
       "3     29.990400\n",
       "4     26.378124\n",
       "..          ...\n",
       "313   31.956724\n",
       "314  129.818709\n",
       "315  162.152648\n",
       "316  151.073118\n",
       "317  191.648208\n",
       "\n",
       "[318 rows x 1 columns]"
      ],
      "text/html": [
       "<div>\n",
       "<style scoped>\n",
       "    .dataframe tbody tr th:only-of-type {\n",
       "        vertical-align: middle;\n",
       "    }\n",
       "\n",
       "    .dataframe tbody tr th {\n",
       "        vertical-align: top;\n",
       "    }\n",
       "\n",
       "    .dataframe thead th {\n",
       "        text-align: right;\n",
       "    }\n",
       "</style>\n",
       "<table border=\"1\" class=\"dataframe\">\n",
       "  <thead>\n",
       "    <tr style=\"text-align: right;\">\n",
       "      <th></th>\n",
       "      <th>0</th>\n",
       "    </tr>\n",
       "  </thead>\n",
       "  <tbody>\n",
       "    <tr>\n",
       "      <th>0</th>\n",
       "      <td>223.421606</td>\n",
       "    </tr>\n",
       "    <tr>\n",
       "      <th>1</th>\n",
       "      <td>155.500126</td>\n",
       "    </tr>\n",
       "    <tr>\n",
       "      <th>2</th>\n",
       "      <td>32.889593</td>\n",
       "    </tr>\n",
       "    <tr>\n",
       "      <th>3</th>\n",
       "      <td>29.990400</td>\n",
       "    </tr>\n",
       "    <tr>\n",
       "      <th>4</th>\n",
       "      <td>26.378124</td>\n",
       "    </tr>\n",
       "    <tr>\n",
       "      <th>...</th>\n",
       "      <td>...</td>\n",
       "    </tr>\n",
       "    <tr>\n",
       "      <th>313</th>\n",
       "      <td>31.956724</td>\n",
       "    </tr>\n",
       "    <tr>\n",
       "      <th>314</th>\n",
       "      <td>129.818709</td>\n",
       "    </tr>\n",
       "    <tr>\n",
       "      <th>315</th>\n",
       "      <td>162.152648</td>\n",
       "    </tr>\n",
       "    <tr>\n",
       "      <th>316</th>\n",
       "      <td>151.073118</td>\n",
       "    </tr>\n",
       "    <tr>\n",
       "      <th>317</th>\n",
       "      <td>191.648208</td>\n",
       "    </tr>\n",
       "  </tbody>\n",
       "</table>\n",
       "<p>318 rows × 1 columns</p>\n",
       "</div>"
      ]
     },
     "metadata": {},
     "execution_count": 62
    }
   ],
   "metadata": {}
  },
  {
   "cell_type": "markdown",
   "source": [
    "We could see that the Gradient Boost Regressor has the highest RMSE and RMSE for test and train is close. That would mean the model is a decent fit. However there is a lot of room for model tuning and improvement.\r\n",
    " "
   ],
   "metadata": {}
  },
  {
   "cell_type": "markdown",
   "source": [
    "## Model Tuning"
   ],
   "metadata": {}
  },
  {
   "cell_type": "code",
   "execution_count": 63,
   "source": [
    "LR = {'learning_rate':[0.15,0.1,0.05],'n_estimators':[50,100,150,200,250]}\r\n",
    "tuning =GridSearchCV(estimator=GradientBoostingRegressor(),param_grid=LR, scoring='r2')\r\n",
    "tuning.fit(X_train,y_train)\r\n",
    "tuning.best_params_, tuning.best_score_, tuning.best_estimator_, tuning.best_index_"
   ],
   "outputs": [
    {
     "output_type": "execute_result",
     "data": {
      "text/plain": [
       "({'learning_rate': 0.05, 'n_estimators': 100},\n",
       " 0.10706575214825512,\n",
       " GradientBoostingRegressor(learning_rate=0.05),\n",
       " 11)"
      ]
     },
     "metadata": {},
     "execution_count": 63
    }
   ],
   "metadata": {}
  },
  {
   "cell_type": "markdown",
   "source": [
    "## Export Model"
   ],
   "metadata": {}
  },
  {
   "cell_type": "code",
   "execution_count": 64,
   "source": [
    "predictions=pd.DataFrame(pred)\r\n",
    "predictions.columns=['revenue']\r\n",
    "predictions.to_csv(\"submission_gbr.csv\",index=False)"
   ],
   "outputs": [],
   "metadata": {}
  },
  {
   "cell_type": "markdown",
   "source": [
    "There are still many variables to play around with to improve the model. We cold try deep learning models, also do some feature engineering, say, see whether the ad appeared on weekday/ weekend. "
   ],
   "metadata": {}
  }
 ],
 "metadata": {
  "interpreter": {
   "hash": "22505a30987181b548c3ae3a6b39d14647269e4bfdfea6349c22a4f7b4a762e0"
  },
  "kernelspec": {
   "display_name": "Python 3.8.3 64-bit ('base': conda)",
   "name": "python3"
  },
  "language_info": {
   "codemirror_mode": {
    "name": "ipython",
    "version": 3
   },
   "file_extension": ".py",
   "mimetype": "text/x-python",
   "name": "python",
   "nbconvert_exporter": "python",
   "pygments_lexer": "ipython3",
   "version": "3.8.3"
  },
  "orig_nbformat": 4
 },
 "nbformat": 4,
 "nbformat_minor": 2
}